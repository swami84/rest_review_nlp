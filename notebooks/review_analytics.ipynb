{
 "cells": [
  {
   "cell_type": "code",
   "execution_count": 1,
   "metadata": {},
   "outputs": [],
   "source": [
    "import pandas as pd\n",
    "import matplotlib.pyplot as plt\n",
    "import numpy as np\n",
    "import os\n",
    "import seaborn as sns"
   ]
  },
  {
   "cell_type": "code",
   "execution_count": 2,
   "metadata": {},
   "outputs": [],
   "source": [
    "def clean_df(df):\n",
    "    df = df[df.caption != '']\n",
    "    \n",
    "    return df.reset_index(drop=True)"
   ]
  },
  {
   "cell_type": "code",
   "execution_count": 27,
   "metadata": {},
   "outputs": [
    {
     "data": {
      "text/plain": [
       "4818"
      ]
     },
     "execution_count": 27,
     "metadata": {},
     "output_type": "execute_result"
    }
   ],
   "source": [
    "len(rev_files)"
   ]
  },
  {
   "cell_type": "code",
   "execution_count": 23,
   "metadata": {},
   "outputs": [],
   "source": [
    "rev_dpath = '../data/outputs/reviews/'\n",
    "        \n",
    "rev_files = [rev_dpath+ f for f in os.listdir(rev_dpath)]\n",
    "df_rev = pd.DataFrame()\n",
    "for file in rev_files:\n",
    "    \n",
    "    df = pd.read_json(file)\n",
    "    df_clean = clean_df(df)\n",
    "    df_clean['place_id'] = file.split('_',1)[1]\n",
    "    df_clean['place_id'] = df_clean['place_id'].str.replace('.json','')\n",
    "    df_rev = pd.concat((df_rev, df_clean), ignore_index=True)"
   ]
  },
  {
   "cell_type": "code",
   "execution_count": 24,
   "metadata": {},
   "outputs": [],
   "source": [
    "rev_dpath = '../data/outputs/cbg_restaurants/'\n",
    "        \n",
    "rev_files = [rev_dpath+ f for f in os.listdir(rev_dpath)]\n",
    "df_rest = pd.DataFrame()\n",
    "for file in rev_files[:725]:\n",
    "    \n",
    "    df = pd.read_json(file)\n",
    "\n",
    "    df_rest = pd.concat((df_rest, df), ignore_index=True)"
   ]
  },
  {
   "cell_type": "code",
   "execution_count": 25,
   "metadata": {},
   "outputs": [],
   "source": [
    "df_join = df_rest.join(df_rev.set_index('place_id'),on = 'place_id',lsuffix='_rest', how='inner')"
   ]
  },
  {
   "cell_type": "code",
   "execution_count": 180,
   "metadata": {},
   "outputs": [],
   "source": [
    "def binary_class_rev(rating):\n",
    "    if rating ==2:\n",
    "        return 1\n",
    "    else:\n",
    "        return 0"
   ]
  },
  {
   "cell_type": "code",
   "execution_count": 26,
   "metadata": {},
   "outputs": [
    {
     "name": "stderr",
     "output_type": "stream",
     "text": [
      "C:\\Users\\swami\\Anaconda3\\envs\\base_env\\lib\\site-packages\\ipykernel_launcher.py:2: SettingWithCopyWarning: \n",
      "A value is trying to be set on a copy of a slice from a DataFrame.\n",
      "Try using .loc[row_indexer,col_indexer] = value instead\n",
      "\n",
      "See the caveats in the documentation: https://pandas.pydata.org/pandas-docs/stable/user_guide/indexing.html#returning-a-view-versus-a-copy\n",
      "  \n"
     ]
    },
    {
     "data": {
      "text/html": [
       "<div>\n",
       "<style scoped>\n",
       "    .dataframe tbody tr th:only-of-type {\n",
       "        vertical-align: middle;\n",
       "    }\n",
       "\n",
       "    .dataframe tbody tr th {\n",
       "        vertical-align: top;\n",
       "    }\n",
       "\n",
       "    .dataframe thead th {\n",
       "        text-align: right;\n",
       "    }\n",
       "</style>\n",
       "<table border=\"1\" class=\"dataframe\">\n",
       "  <thead>\n",
       "    <tr style=\"text-align: right;\">\n",
       "      <th></th>\n",
       "      <th>business_status</th>\n",
       "      <th>geometry</th>\n",
       "      <th>icon</th>\n",
       "      <th>name</th>\n",
       "      <th>opening_hours</th>\n",
       "      <th>photos</th>\n",
       "      <th>place_id</th>\n",
       "      <th>plus_code</th>\n",
       "      <th>reference</th>\n",
       "      <th>scope</th>\n",
       "      <th>...</th>\n",
       "      <th>caption</th>\n",
       "      <th>relative_date</th>\n",
       "      <th>retrieval_date</th>\n",
       "      <th>rating</th>\n",
       "      <th>username</th>\n",
       "      <th>n_review_user</th>\n",
       "      <th>n_photo_user</th>\n",
       "      <th>url_user</th>\n",
       "      <th>census_block_group</th>\n",
       "      <th>rev_length</th>\n",
       "    </tr>\n",
       "  </thead>\n",
       "  <tbody>\n",
       "    <tr>\n",
       "      <th>1</th>\n",
       "      <td>OPERATIONAL</td>\n",
       "      <td>{'location': {'lat': 33.5206608, 'lng': -86.80...</td>\n",
       "      <td>https://maps.gstatic.com/mapfiles/place_api/ic...</td>\n",
       "      <td>Restaurants</td>\n",
       "      <td>None</td>\n",
       "      <td>[{'height': 1280, 'html_attributions': ['&lt;a hr...</td>\n",
       "      <td>ChIJNe0mPMkbiYgR6oApk2Pt7F8</td>\n",
       "      <td>{'compound_code': 'G5CX+72 Birmingham, AL, USA...</td>\n",
       "      <td>ChIJNe0mPMkbiYgR6oApk2Pt7F8</td>\n",
       "      <td>GOOGLE</td>\n",
       "      <td>...</td>\n",
       "      <td>Money to pawy secy y QPRyiy</td>\n",
       "      <td>2 years ago</td>\n",
       "      <td>2021-03-23</td>\n",
       "      <td>1</td>\n",
       "      <td>Prathamesh Adhikari</td>\n",
       "      <td>1</td>\n",
       "      <td>0</td>\n",
       "      <td>https://www.google.com/maps/contrib/1146220333...</td>\n",
       "      <td>10730027002</td>\n",
       "      <td>27</td>\n",
       "    </tr>\n",
       "    <tr>\n",
       "      <th>2</th>\n",
       "      <td>OPERATIONAL</td>\n",
       "      <td>{'location': {'lat': 32.6146592, 'lng': -85.47...</td>\n",
       "      <td>https://maps.gstatic.com/mapfiles/place_api/ic...</td>\n",
       "      <td>The Cup and Saucer Casseroles Catering &amp; More</td>\n",
       "      <td>{'open_now': False}</td>\n",
       "      <td>[{'height': 4032, 'html_attributions': ['&lt;a hr...</td>\n",
       "      <td>ChIJFdCPZt3yjIgR_Qxv-sQ4Gpk</td>\n",
       "      <td>{'compound_code': 'JG7H+VX Auburn, AL, USA', '...</td>\n",
       "      <td>ChIJFdCPZt3yjIgR_Qxv-sQ4Gpk</td>\n",
       "      <td>GOOGLE</td>\n",
       "      <td>...</td>\n",
       "      <td>Delicious food all the way around! Cup and Sau...</td>\n",
       "      <td>7 months ago</td>\n",
       "      <td>2021-03-23</td>\n",
       "      <td>5</td>\n",
       "      <td>Melissa Atkinson</td>\n",
       "      <td>0</td>\n",
       "      <td>0</td>\n",
       "      <td>https://www.google.com/maps/contrib/1127619209...</td>\n",
       "      <td>10810402004</td>\n",
       "      <td>368</td>\n",
       "    </tr>\n",
       "    <tr>\n",
       "      <th>2</th>\n",
       "      <td>OPERATIONAL</td>\n",
       "      <td>{'location': {'lat': 32.6146592, 'lng': -85.47...</td>\n",
       "      <td>https://maps.gstatic.com/mapfiles/place_api/ic...</td>\n",
       "      <td>The Cup and Saucer Casseroles Catering &amp; More</td>\n",
       "      <td>{'open_now': False}</td>\n",
       "      <td>[{'height': 4032, 'html_attributions': ['&lt;a hr...</td>\n",
       "      <td>ChIJFdCPZt3yjIgR_Qxv-sQ4Gpk</td>\n",
       "      <td>{'compound_code': 'JG7H+VX Auburn, AL, USA', '...</td>\n",
       "      <td>ChIJFdCPZt3yjIgR_Qxv-sQ4Gpk</td>\n",
       "      <td>GOOGLE</td>\n",
       "      <td>...</td>\n",
       "      <td>Great frozen homemade casseroles, refrigerated...</td>\n",
       "      <td>2 years ago</td>\n",
       "      <td>2021-03-23</td>\n",
       "      <td>5</td>\n",
       "      <td>Tana Branch</td>\n",
       "      <td>0</td>\n",
       "      <td>0</td>\n",
       "      <td>https://www.google.com/maps/contrib/1084704427...</td>\n",
       "      <td>10810402004</td>\n",
       "      <td>214</td>\n",
       "    </tr>\n",
       "    <tr>\n",
       "      <th>3</th>\n",
       "      <td>OPERATIONAL</td>\n",
       "      <td>{'location': {'lat': 32.6146842, 'lng': -85.47...</td>\n",
       "      <td>https://maps.gstatic.com/mapfiles/place_api/ic...</td>\n",
       "      <td>Yum Yums Food Specialty Shoppe and Grocery</td>\n",
       "      <td>{'open_now': False}</td>\n",
       "      <td>[{'height': 640, 'html_attributions': ['&lt;a hre...</td>\n",
       "      <td>ChIJFdCPZt3yjIgRnCIXz-jIfVw</td>\n",
       "      <td>{'compound_code': 'JG7H+VX Auburn, AL, USA', '...</td>\n",
       "      <td>ChIJFdCPZt3yjIgRnCIXz-jIfVw</td>\n",
       "      <td>GOOGLE</td>\n",
       "      <td>...</td>\n",
       "      <td>We had the food for a work event and it was ve...</td>\n",
       "      <td>a year ago</td>\n",
       "      <td>2021-03-23</td>\n",
       "      <td>5</td>\n",
       "      <td>Liv Laugh BTS</td>\n",
       "      <td>6</td>\n",
       "      <td>0</td>\n",
       "      <td>https://www.google.com/maps/contrib/1010388976...</td>\n",
       "      <td>10810402004</td>\n",
       "      <td>164</td>\n",
       "    </tr>\n",
       "    <tr>\n",
       "      <th>3</th>\n",
       "      <td>OPERATIONAL</td>\n",
       "      <td>{'location': {'lat': 32.6146842, 'lng': -85.47...</td>\n",
       "      <td>https://maps.gstatic.com/mapfiles/place_api/ic...</td>\n",
       "      <td>Yum Yums Food Specialty Shoppe and Grocery</td>\n",
       "      <td>{'open_now': False}</td>\n",
       "      <td>[{'height': 640, 'html_attributions': ['&lt;a hre...</td>\n",
       "      <td>ChIJFdCPZt3yjIgRnCIXz-jIfVw</td>\n",
       "      <td>{'compound_code': 'JG7H+VX Auburn, AL, USA', '...</td>\n",
       "      <td>ChIJFdCPZt3yjIgRnCIXz-jIfVw</td>\n",
       "      <td>GOOGLE</td>\n",
       "      <td>...</td>\n",
       "      <td>Food is great ad well as service.</td>\n",
       "      <td>2 years ago</td>\n",
       "      <td>2021-03-23</td>\n",
       "      <td>4</td>\n",
       "      <td>Carol Lisenby</td>\n",
       "      <td>0</td>\n",
       "      <td>0</td>\n",
       "      <td>https://www.google.com/maps/contrib/1171812312...</td>\n",
       "      <td>10810402004</td>\n",
       "      <td>33</td>\n",
       "    </tr>\n",
       "    <tr>\n",
       "      <th>...</th>\n",
       "      <td>...</td>\n",
       "      <td>...</td>\n",
       "      <td>...</td>\n",
       "      <td>...</td>\n",
       "      <td>...</td>\n",
       "      <td>...</td>\n",
       "      <td>...</td>\n",
       "      <td>...</td>\n",
       "      <td>...</td>\n",
       "      <td>...</td>\n",
       "      <td>...</td>\n",
       "      <td>...</td>\n",
       "      <td>...</td>\n",
       "      <td>...</td>\n",
       "      <td>...</td>\n",
       "      <td>...</td>\n",
       "      <td>...</td>\n",
       "      <td>...</td>\n",
       "      <td>...</td>\n",
       "      <td>...</td>\n",
       "      <td>...</td>\n",
       "    </tr>\n",
       "    <tr>\n",
       "      <th>5031</th>\n",
       "      <td>OPERATIONAL</td>\n",
       "      <td>{'location': {'lat': 41.7787247, 'lng': -87.60...</td>\n",
       "      <td>https://maps.gstatic.com/mapfiles/place_api/ic...</td>\n",
       "      <td>JB One</td>\n",
       "      <td>{'open_now': False}</td>\n",
       "      <td>[{'height': 440, 'html_attributions': ['&lt;a hre...</td>\n",
       "      <td>ChIJk-4M8SYpDogRCnAu8VxVSYE</td>\n",
       "      <td>{'compound_code': 'Q9HV+FQ Chicago, IL, USA', ...</td>\n",
       "      <td>ChIJk-4M8SYpDogRCnAu8VxVSYE</td>\n",
       "      <td>GOOGLE</td>\n",
       "      <td>...</td>\n",
       "      <td>I order the two cheese burger specials with ch...</td>\n",
       "      <td>4 years ago</td>\n",
       "      <td>2021-03-28</td>\n",
       "      <td>4</td>\n",
       "      <td>D!or &amp; Derek The Osborns</td>\n",
       "      <td>5</td>\n",
       "      <td>0</td>\n",
       "      <td>https://www.google.com/maps/contrib/1024391676...</td>\n",
       "      <td>170314208001</td>\n",
       "      <td>132</td>\n",
       "    </tr>\n",
       "    <tr>\n",
       "      <th>5031</th>\n",
       "      <td>OPERATIONAL</td>\n",
       "      <td>{'location': {'lat': 41.7787247, 'lng': -87.60...</td>\n",
       "      <td>https://maps.gstatic.com/mapfiles/place_api/ic...</td>\n",
       "      <td>JB One</td>\n",
       "      <td>{'open_now': False}</td>\n",
       "      <td>[{'height': 440, 'html_attributions': ['&lt;a hre...</td>\n",
       "      <td>ChIJk-4M8SYpDogRCnAu8VxVSYE</td>\n",
       "      <td>{'compound_code': 'Q9HV+FQ Chicago, IL, USA', ...</td>\n",
       "      <td>ChIJk-4M8SYpDogRCnAu8VxVSYE</td>\n",
       "      <td>GOOGLE</td>\n",
       "      <td>...</td>\n",
       "      <td>Very terrible service,  i literally just left ...</td>\n",
       "      <td>5 years ago</td>\n",
       "      <td>2021-03-28</td>\n",
       "      <td>1</td>\n",
       "      <td>Arniitia Glenn</td>\n",
       "      <td>1</td>\n",
       "      <td>0</td>\n",
       "      <td>https://www.google.com/maps/contrib/1153773321...</td>\n",
       "      <td>170314208001</td>\n",
       "      <td>719</td>\n",
       "    </tr>\n",
       "    <tr>\n",
       "      <th>5031</th>\n",
       "      <td>OPERATIONAL</td>\n",
       "      <td>{'location': {'lat': 41.7787247, 'lng': -87.60...</td>\n",
       "      <td>https://maps.gstatic.com/mapfiles/place_api/ic...</td>\n",
       "      <td>JB One</td>\n",
       "      <td>{'open_now': False}</td>\n",
       "      <td>[{'height': 440, 'html_attributions': ['&lt;a hre...</td>\n",
       "      <td>ChIJk-4M8SYpDogRCnAu8VxVSYE</td>\n",
       "      <td>{'compound_code': 'Q9HV+FQ Chicago, IL, USA', ...</td>\n",
       "      <td>ChIJk-4M8SYpDogRCnAu8VxVSYE</td>\n",
       "      <td>GOOGLE</td>\n",
       "      <td>...</td>\n",
       "      <td>Baaaby, ZSafah (I hope I spelled it right) is ...</td>\n",
       "      <td>5 years ago</td>\n",
       "      <td>2021-03-28</td>\n",
       "      <td>4</td>\n",
       "      <td>Willie Wade</td>\n",
       "      <td>1</td>\n",
       "      <td>0</td>\n",
       "      <td>https://www.google.com/maps/contrib/1012001847...</td>\n",
       "      <td>170314208001</td>\n",
       "      <td>233</td>\n",
       "    </tr>\n",
       "    <tr>\n",
       "      <th>5031</th>\n",
       "      <td>OPERATIONAL</td>\n",
       "      <td>{'location': {'lat': 41.7787247, 'lng': -87.60...</td>\n",
       "      <td>https://maps.gstatic.com/mapfiles/place_api/ic...</td>\n",
       "      <td>JB One</td>\n",
       "      <td>{'open_now': False}</td>\n",
       "      <td>[{'height': 440, 'html_attributions': ['&lt;a hre...</td>\n",
       "      <td>ChIJk-4M8SYpDogRCnAu8VxVSYE</td>\n",
       "      <td>{'compound_code': 'Q9HV+FQ Chicago, IL, USA', ...</td>\n",
       "      <td>ChIJk-4M8SYpDogRCnAu8VxVSYE</td>\n",
       "      <td>GOOGLE</td>\n",
       "      <td>...</td>\n",
       "      <td>Stop hating Mr Mitchell u must not b from arou...</td>\n",
       "      <td>5 years ago</td>\n",
       "      <td>2021-03-28</td>\n",
       "      <td>4</td>\n",
       "      <td>Tony Shields</td>\n",
       "      <td>2</td>\n",
       "      <td>0</td>\n",
       "      <td>https://www.google.com/maps/contrib/1124702443...</td>\n",
       "      <td>170314208001</td>\n",
       "      <td>287</td>\n",
       "    </tr>\n",
       "    <tr>\n",
       "      <th>5031</th>\n",
       "      <td>OPERATIONAL</td>\n",
       "      <td>{'location': {'lat': 41.7787247, 'lng': -87.60...</td>\n",
       "      <td>https://maps.gstatic.com/mapfiles/place_api/ic...</td>\n",
       "      <td>JB One</td>\n",
       "      <td>{'open_now': False}</td>\n",
       "      <td>[{'height': 440, 'html_attributions': ['&lt;a hre...</td>\n",
       "      <td>ChIJk-4M8SYpDogRCnAu8VxVSYE</td>\n",
       "      <td>{'compound_code': 'Q9HV+FQ Chicago, IL, USA', ...</td>\n",
       "      <td>ChIJk-4M8SYpDogRCnAu8VxVSYE</td>\n",
       "      <td>GOOGLE</td>\n",
       "      <td>...</td>\n",
       "      <td>This place is terrible!!!I bought some food fr...</td>\n",
       "      <td>6 years ago</td>\n",
       "      <td>2021-03-28</td>\n",
       "      <td>1</td>\n",
       "      <td>michael Mitchell</td>\n",
       "      <td>7</td>\n",
       "      <td>0</td>\n",
       "      <td>https://www.google.com/maps/contrib/1130496904...</td>\n",
       "      <td>170314208001</td>\n",
       "      <td>178</td>\n",
       "    </tr>\n",
       "  </tbody>\n",
       "</table>\n",
       "<p>350102 rows × 29 columns</p>\n",
       "</div>"
      ],
      "text/plain": [
       "     business_status                                           geometry  \\\n",
       "1        OPERATIONAL  {'location': {'lat': 33.5206608, 'lng': -86.80...   \n",
       "2        OPERATIONAL  {'location': {'lat': 32.6146592, 'lng': -85.47...   \n",
       "2        OPERATIONAL  {'location': {'lat': 32.6146592, 'lng': -85.47...   \n",
       "3        OPERATIONAL  {'location': {'lat': 32.6146842, 'lng': -85.47...   \n",
       "3        OPERATIONAL  {'location': {'lat': 32.6146842, 'lng': -85.47...   \n",
       "...              ...                                                ...   \n",
       "5031     OPERATIONAL  {'location': {'lat': 41.7787247, 'lng': -87.60...   \n",
       "5031     OPERATIONAL  {'location': {'lat': 41.7787247, 'lng': -87.60...   \n",
       "5031     OPERATIONAL  {'location': {'lat': 41.7787247, 'lng': -87.60...   \n",
       "5031     OPERATIONAL  {'location': {'lat': 41.7787247, 'lng': -87.60...   \n",
       "5031     OPERATIONAL  {'location': {'lat': 41.7787247, 'lng': -87.60...   \n",
       "\n",
       "                                                   icon  \\\n",
       "1     https://maps.gstatic.com/mapfiles/place_api/ic...   \n",
       "2     https://maps.gstatic.com/mapfiles/place_api/ic...   \n",
       "2     https://maps.gstatic.com/mapfiles/place_api/ic...   \n",
       "3     https://maps.gstatic.com/mapfiles/place_api/ic...   \n",
       "3     https://maps.gstatic.com/mapfiles/place_api/ic...   \n",
       "...                                                 ...   \n",
       "5031  https://maps.gstatic.com/mapfiles/place_api/ic...   \n",
       "5031  https://maps.gstatic.com/mapfiles/place_api/ic...   \n",
       "5031  https://maps.gstatic.com/mapfiles/place_api/ic...   \n",
       "5031  https://maps.gstatic.com/mapfiles/place_api/ic...   \n",
       "5031  https://maps.gstatic.com/mapfiles/place_api/ic...   \n",
       "\n",
       "                                               name        opening_hours  \\\n",
       "1                                       Restaurants                 None   \n",
       "2     The Cup and Saucer Casseroles Catering & More  {'open_now': False}   \n",
       "2     The Cup and Saucer Casseroles Catering & More  {'open_now': False}   \n",
       "3        Yum Yums Food Specialty Shoppe and Grocery  {'open_now': False}   \n",
       "3        Yum Yums Food Specialty Shoppe and Grocery  {'open_now': False}   \n",
       "...                                             ...                  ...   \n",
       "5031                                         JB One  {'open_now': False}   \n",
       "5031                                         JB One  {'open_now': False}   \n",
       "5031                                         JB One  {'open_now': False}   \n",
       "5031                                         JB One  {'open_now': False}   \n",
       "5031                                         JB One  {'open_now': False}   \n",
       "\n",
       "                                                 photos  \\\n",
       "1     [{'height': 1280, 'html_attributions': ['<a hr...   \n",
       "2     [{'height': 4032, 'html_attributions': ['<a hr...   \n",
       "2     [{'height': 4032, 'html_attributions': ['<a hr...   \n",
       "3     [{'height': 640, 'html_attributions': ['<a hre...   \n",
       "3     [{'height': 640, 'html_attributions': ['<a hre...   \n",
       "...                                                 ...   \n",
       "5031  [{'height': 440, 'html_attributions': ['<a hre...   \n",
       "5031  [{'height': 440, 'html_attributions': ['<a hre...   \n",
       "5031  [{'height': 440, 'html_attributions': ['<a hre...   \n",
       "5031  [{'height': 440, 'html_attributions': ['<a hre...   \n",
       "5031  [{'height': 440, 'html_attributions': ['<a hre...   \n",
       "\n",
       "                         place_id  \\\n",
       "1     ChIJNe0mPMkbiYgR6oApk2Pt7F8   \n",
       "2     ChIJFdCPZt3yjIgR_Qxv-sQ4Gpk   \n",
       "2     ChIJFdCPZt3yjIgR_Qxv-sQ4Gpk   \n",
       "3     ChIJFdCPZt3yjIgRnCIXz-jIfVw   \n",
       "3     ChIJFdCPZt3yjIgRnCIXz-jIfVw   \n",
       "...                           ...   \n",
       "5031  ChIJk-4M8SYpDogRCnAu8VxVSYE   \n",
       "5031  ChIJk-4M8SYpDogRCnAu8VxVSYE   \n",
       "5031  ChIJk-4M8SYpDogRCnAu8VxVSYE   \n",
       "5031  ChIJk-4M8SYpDogRCnAu8VxVSYE   \n",
       "5031  ChIJk-4M8SYpDogRCnAu8VxVSYE   \n",
       "\n",
       "                                              plus_code  \\\n",
       "1     {'compound_code': 'G5CX+72 Birmingham, AL, USA...   \n",
       "2     {'compound_code': 'JG7H+VX Auburn, AL, USA', '...   \n",
       "2     {'compound_code': 'JG7H+VX Auburn, AL, USA', '...   \n",
       "3     {'compound_code': 'JG7H+VX Auburn, AL, USA', '...   \n",
       "3     {'compound_code': 'JG7H+VX Auburn, AL, USA', '...   \n",
       "...                                                 ...   \n",
       "5031  {'compound_code': 'Q9HV+FQ Chicago, IL, USA', ...   \n",
       "5031  {'compound_code': 'Q9HV+FQ Chicago, IL, USA', ...   \n",
       "5031  {'compound_code': 'Q9HV+FQ Chicago, IL, USA', ...   \n",
       "5031  {'compound_code': 'Q9HV+FQ Chicago, IL, USA', ...   \n",
       "5031  {'compound_code': 'Q9HV+FQ Chicago, IL, USA', ...   \n",
       "\n",
       "                        reference   scope  ...  \\\n",
       "1     ChIJNe0mPMkbiYgR6oApk2Pt7F8  GOOGLE  ...   \n",
       "2     ChIJFdCPZt3yjIgR_Qxv-sQ4Gpk  GOOGLE  ...   \n",
       "2     ChIJFdCPZt3yjIgR_Qxv-sQ4Gpk  GOOGLE  ...   \n",
       "3     ChIJFdCPZt3yjIgRnCIXz-jIfVw  GOOGLE  ...   \n",
       "3     ChIJFdCPZt3yjIgRnCIXz-jIfVw  GOOGLE  ...   \n",
       "...                           ...     ...  ...   \n",
       "5031  ChIJk-4M8SYpDogRCnAu8VxVSYE  GOOGLE  ...   \n",
       "5031  ChIJk-4M8SYpDogRCnAu8VxVSYE  GOOGLE  ...   \n",
       "5031  ChIJk-4M8SYpDogRCnAu8VxVSYE  GOOGLE  ...   \n",
       "5031  ChIJk-4M8SYpDogRCnAu8VxVSYE  GOOGLE  ...   \n",
       "5031  ChIJk-4M8SYpDogRCnAu8VxVSYE  GOOGLE  ...   \n",
       "\n",
       "                                                caption relative_date  \\\n",
       "1                           Money to pawy secy y QPRyiy   2 years ago   \n",
       "2     Delicious food all the way around! Cup and Sau...  7 months ago   \n",
       "2     Great frozen homemade casseroles, refrigerated...   2 years ago   \n",
       "3     We had the food for a work event and it was ve...    a year ago   \n",
       "3                     Food is great ad well as service.   2 years ago   \n",
       "...                                                 ...           ...   \n",
       "5031  I order the two cheese burger specials with ch...   4 years ago   \n",
       "5031  Very terrible service,  i literally just left ...   5 years ago   \n",
       "5031  Baaaby, ZSafah (I hope I spelled it right) is ...   5 years ago   \n",
       "5031  Stop hating Mr Mitchell u must not b from arou...   5 years ago   \n",
       "5031  This place is terrible!!!I bought some food fr...   6 years ago   \n",
       "\n",
       "      retrieval_date  rating                  username  n_review_user  \\\n",
       "1         2021-03-23       1       Prathamesh Adhikari              1   \n",
       "2         2021-03-23       5          Melissa Atkinson              0   \n",
       "2         2021-03-23       5               Tana Branch              0   \n",
       "3         2021-03-23       5             Liv Laugh BTS              6   \n",
       "3         2021-03-23       4             Carol Lisenby              0   \n",
       "...              ...     ...                       ...            ...   \n",
       "5031      2021-03-28       4  D!or & Derek The Osborns              5   \n",
       "5031      2021-03-28       1            Arniitia Glenn              1   \n",
       "5031      2021-03-28       4               Willie Wade              1   \n",
       "5031      2021-03-28       4              Tony Shields              2   \n",
       "5031      2021-03-28       1          michael Mitchell              7   \n",
       "\n",
       "      n_photo_user                                           url_user  \\\n",
       "1                0  https://www.google.com/maps/contrib/1146220333...   \n",
       "2                0  https://www.google.com/maps/contrib/1127619209...   \n",
       "2                0  https://www.google.com/maps/contrib/1084704427...   \n",
       "3                0  https://www.google.com/maps/contrib/1010388976...   \n",
       "3                0  https://www.google.com/maps/contrib/1171812312...   \n",
       "...            ...                                                ...   \n",
       "5031             0  https://www.google.com/maps/contrib/1024391676...   \n",
       "5031             0  https://www.google.com/maps/contrib/1153773321...   \n",
       "5031             0  https://www.google.com/maps/contrib/1012001847...   \n",
       "5031             0  https://www.google.com/maps/contrib/1124702443...   \n",
       "5031             0  https://www.google.com/maps/contrib/1130496904...   \n",
       "\n",
       "     census_block_group rev_length  \n",
       "1           10730027002         27  \n",
       "2           10810402004        368  \n",
       "2           10810402004        214  \n",
       "3           10810402004        164  \n",
       "3           10810402004         33  \n",
       "...                 ...        ...  \n",
       "5031       170314208001        132  \n",
       "5031       170314208001        719  \n",
       "5031       170314208001        233  \n",
       "5031       170314208001        287  \n",
       "5031       170314208001        178  \n",
       "\n",
       "[350102 rows x 29 columns]"
      ]
     },
     "execution_count": 26,
     "metadata": {},
     "output_type": "execute_result"
    }
   ],
   "source": [
    "df_prep = df_join.drop_duplicates(subset = ['id_review'], keep='first')\n",
    "df_prep['rev_length'] = df_prep.caption.str.len()\n",
    "df_prep = df_prep[df_prep.rev_length>25]\n",
    "# df_prep['rating_cat'] = df_prep['rating'].apply(lambda x: binary_class_rev(x))\n",
    "df_prep"
   ]
  },
  {
   "cell_type": "code",
   "execution_count": 28,
   "metadata": {},
   "outputs": [
    {
     "data": {
      "text/plain": [
       "PointbiserialrResult(correlation=-0.2224619290430017, pvalue=0.0)"
      ]
     },
     "execution_count": 28,
     "metadata": {},
     "output_type": "execute_result"
    }
   ],
   "source": [
    "from scipy.stats import pointbiserialr\n",
    "\n",
    "pointbiserialr(df_prep['rating'].values, df_prep['rev_length'].values)"
   ]
  },
  {
   "cell_type": "code",
   "execution_count": 29,
   "metadata": {},
   "outputs": [
    {
     "data": {
      "text/html": [
       "<div>\n",
       "<style scoped>\n",
       "    .dataframe tbody tr th:only-of-type {\n",
       "        vertical-align: middle;\n",
       "    }\n",
       "\n",
       "    .dataframe tbody tr th {\n",
       "        vertical-align: top;\n",
       "    }\n",
       "\n",
       "    .dataframe thead th {\n",
       "        text-align: right;\n",
       "    }\n",
       "</style>\n",
       "<table border=\"1\" class=\"dataframe\">\n",
       "  <thead>\n",
       "    <tr style=\"text-align: right;\">\n",
       "      <th></th>\n",
       "      <th>rating</th>\n",
       "      <th>price_level</th>\n",
       "      <th>rev_length</th>\n",
       "    </tr>\n",
       "  </thead>\n",
       "  <tbody>\n",
       "    <tr>\n",
       "      <th>rating</th>\n",
       "      <td>1.000000</td>\n",
       "      <td>0.093842</td>\n",
       "      <td>-0.222462</td>\n",
       "    </tr>\n",
       "    <tr>\n",
       "      <th>price_level</th>\n",
       "      <td>0.093842</td>\n",
       "      <td>1.000000</td>\n",
       "      <td>0.076464</td>\n",
       "    </tr>\n",
       "    <tr>\n",
       "      <th>rev_length</th>\n",
       "      <td>-0.222462</td>\n",
       "      <td>0.076464</td>\n",
       "      <td>1.000000</td>\n",
       "    </tr>\n",
       "  </tbody>\n",
       "</table>\n",
       "</div>"
      ],
      "text/plain": [
       "               rating  price_level  rev_length\n",
       "rating       1.000000     0.093842   -0.222462\n",
       "price_level  0.093842     1.000000    0.076464\n",
       "rev_length  -0.222462     0.076464    1.000000"
      ]
     },
     "execution_count": 29,
     "metadata": {},
     "output_type": "execute_result"
    }
   ],
   "source": [
    "df_prep[['rating','price_level','rev_length']].corr()"
   ]
  },
  {
   "cell_type": "code",
   "execution_count": 33,
   "metadata": {
    "scrolled": false
   },
   "outputs": [
    {
     "data": {
      "text/plain": [
       "place_id\n",
       "ChIJ24q4qLMsDogRsCoVotb9DFs    2.411765\n",
       "ChIJ2xVo2bLTD4gRfJsGQqHWg-Y    3.278351\n",
       "ChIJ7TScDUK4t4kRsvPxDLDr9f0    2.880435\n",
       "ChIJ7ZpZ6Oe3t4kRxd2lGfr4Gk4    3.581560\n",
       "ChIJ860V7FM_24gRdhnqqanYMQc    2.901060\n",
       "ChIJD4OEHo63t4kR-jqq6XgQ3EU    2.627778\n",
       "ChIJGyD3L6DRD4gRL6a_oEpjd8o    3.181452\n",
       "ChIJLz2nblUrDogRJ-QEnYcxbgU    3.487952\n",
       "ChIJZbmaRq8sDogRN6sw2tQpvys    3.323529\n",
       "ChIJdZIaE5HIt4kRW5cZY10GZds    3.286408\n",
       "ChIJfxsprO--9YgRn846K7Kr6_g    3.183761\n",
       "ChIJkR0RyudtAHwRZzdBO4L_Ofg    3.450382\n",
       "ChIJrS1ZzJNtAHwRba7MZhi7stI    3.593496\n",
       "ChIJu-yDctS3t4kROm9YRVn68Z0    3.321918\n",
       "ChIJv5mt5trND4gRbUbTX5eOAA0    3.193878\n",
       "ChIJz3_qWHRuAHwR8XukVgqnol0    3.333333\n",
       "Name: rating, dtype: float64"
      ]
     },
     "execution_count": 33,
     "metadata": {},
     "output_type": "execute_result"
    }
   ],
   "source": [
    "df_prep[df_prep['name'].str.contains('McD')].groupby('place_id')['rating'].mean()"
   ]
  },
  {
   "cell_type": "code",
   "execution_count": 37,
   "metadata": {},
   "outputs": [
    {
     "data": {
      "text/plain": [
       "place_id\n",
       "ChIJJbZOPh0tDogRUqIU_bhqBak    2.181818\n",
       "ChIJL7b896UsDogR6zJZqkBdgNc    2.495050\n",
       "ChIJUV8SBZir2YgRvmJkziOvyVE    2.750943\n",
       "ChIJc_d9xudtAHwR0_2bCqEagT8    3.587097\n",
       "ChIJie3D_fK62YgRAjIidlrfw8s    3.211180\n",
       "ChIJjTPmDHkB2YgRtWVYiZjd_Zk    2.965385\n",
       "ChIJnxLLzQfTD4gR-Q9Kh3NbADs    2.896000\n",
       "ChIJpYaNIErSD4gRX1EP9f7hjrc    3.342995\n",
       "ChIJr0vmxvmt2YgRPanzLGezwWs    3.190141\n",
       "Name: rating, dtype: float64"
      ]
     },
     "execution_count": 37,
     "metadata": {},
     "output_type": "execute_result"
    }
   ],
   "source": [
    "df_prep[df_prep['name'].str.contains('Burger King')].groupby('place_id')['rating'].mean()"
   ]
  },
  {
   "cell_type": "code",
   "execution_count": 39,
   "metadata": {},
   "outputs": [
    {
     "data": {
      "text/plain": [
       "Index(['business_status', 'geometry', 'icon', 'name', 'opening_hours',\n",
       "       'photos', 'place_id', 'plus_code', 'reference', 'scope', 'types',\n",
       "       'vicinity', 'rating_rest', 'user_ratings_total', 'CBG', 'Radius',\n",
       "       'price_level', 'permanently_closed', 'id_review', 'caption',\n",
       "       'relative_date', 'retrieval_date', 'rating', 'username',\n",
       "       'n_review_user', 'n_photo_user', 'url_user', 'census_block_group',\n",
       "       'rev_length'],\n",
       "      dtype='object')"
      ]
     },
     "execution_count": 39,
     "metadata": {},
     "output_type": "execute_result"
    }
   ],
   "source": [
    "df_prep.columns"
   ]
  },
  {
   "cell_type": "code",
   "execution_count": 44,
   "metadata": {},
   "outputs": [
    {
     "name": "stdout",
     "output_type": "stream",
     "text": [
      "The Mill Kitchen and Bar\n",
      "Aamar Indian Cuisine\n",
      "Yah Mon Caribbean Restaurant\n",
      "Surf N Turf Tacos\n",
      "Paia Fish Market Waikiki\n",
      "Luke's Lobster Penn Quarter\n",
      "Coffee Cup Restaurant\n",
      "Crackin' Kitchen\n",
      "Big Spring Cafe\n",
      "ala\n"
     ]
    }
   ],
   "source": [
    "for place in df_prep['place_id'].value_counts()[:10].index:\n",
    "    print(df_prep[df_prep.place_id == place]['name'].iloc[0])"
   ]
  },
  {
   "cell_type": "code",
   "execution_count": 35,
   "metadata": {},
   "outputs": [
    {
     "data": {
      "text/plain": [
       "4.173740795539586"
      ]
     },
     "execution_count": 35,
     "metadata": {},
     "output_type": "execute_result"
    }
   ],
   "source": [
    "df_prep['rating'].mean()"
   ]
  },
  {
   "cell_type": "code",
   "execution_count": 17,
   "metadata": {},
   "outputs": [
    {
     "data": {
      "image/png": "[encoded data removed]",
      "text/plain": [
       "<Figure size 432x288 with 1 Axes>"
      ]
     },
     "metadata": {
      "needs_background": "light"
     },
     "output_type": "display_data"
    }
   ],
   "source": [
    "sns.violinplot(x= 'rating', y = 'rev_length', data=df_prep,saturation=0.75,bw=0.8,cut=0)\n",
    "plt.yscale('log')"
   ]
  },
  {
   "cell_type": "code",
   "execution_count": 22,
   "metadata": {},
   "outputs": [
    {
     "data": {
      "text/plain": [
       "business_status        object\n",
       "geometry               object\n",
       "icon                   object\n",
       "name                   object\n",
       "opening_hours          object\n",
       "photos                 object\n",
       "place_id               object\n",
       "plus_code              object\n",
       "reference              object\n",
       "scope                  object\n",
       "types                  object\n",
       "vicinity               object\n",
       "rating_rest           float64\n",
       "user_ratings_total    float64\n",
       "CBG                     int64\n",
       "Radius                float64\n",
       "price_level           float64\n",
       "permanently_closed    float64\n",
       "id_review              object\n",
       "caption                object\n",
       "relative_date          object\n",
       "retrieval_date         object\n",
       "rating                  int64\n",
       "username               object\n",
       "n_review_user           int64\n",
       "n_photo_user            int64\n",
       "url_user               object\n",
       "census_block_group      int64\n",
       "rev_length              int64\n",
       "dtype: object"
      ]
     },
     "execution_count": 22,
     "metadata": {},
     "output_type": "execute_result"
    }
   ],
   "source": [
    "df_prep"
   ]
  },
  {
   "cell_type": "code",
   "execution_count": 163,
   "metadata": {},
   "outputs": [
    {
     "data": {
      "text/plain": [
       "382994"
      ]
     },
     "execution_count": 163,
     "metadata": {},
     "output_type": "execute_result"
    }
   ],
   "source": [
    "len(df_join)"
   ]
  },
  {
   "cell_type": "code",
   "execution_count": null,
   "metadata": {},
   "outputs": [],
   "source": []
  }
 ],
 "metadata": {
  "kernelspec": {
   "display_name": "Python 3",
   "language": "python",
   "name": "python3"
  },
  "language_info": {
   "codemirror_mode": {
    "name": "ipython",
    "version": 3
   },
   "file_extension": ".py",
   "mimetype": "text/x-python",
   "name": "python",
   "nbconvert_exporter": "python",
   "pygments_lexer": "ipython3",
   "version": "3.6.12"
  }
 },
 "nbformat": 4,
 "nbformat_minor": 4
}
