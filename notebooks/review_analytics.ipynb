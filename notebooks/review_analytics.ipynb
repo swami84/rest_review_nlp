{
 "cells": [
  {
   "cell_type": "code",
   "execution_count": 2,
   "metadata": {},
   "outputs": [],
   "source": [
    "import pandas as pd\n",
    "import matplotlib.pyplot as plt\n",
    "import numpy as np\n",
    "import os"
   ]
  },
  {
   "cell_type": "code",
   "execution_count": 21,
   "metadata": {},
   "outputs": [],
   "source": [
    "def clean_df(df):\n",
    "    df = df[df.caption != '']\n",
    "    return df.reset_index(drop=True)"
   ]
  },
  {
   "cell_type": "code",
   "execution_count": 107,
   "metadata": {},
   "outputs": [],
   "source": [
    "rev_dpath = '../data/outputs/reviews/'\n",
    "        \n",
    "rev_files = [rev_dpath+ f for f in os.listdir(rev_dpath)]\n",
    "df_rev = pd.DataFrame()\n",
    "for file in rev_files:\n",
    "    \n",
    "    df = pd.read_json(file)\n",
    "    df_clean = clean_df(df)\n",
    "    df_clean['place_id'] = file.split('_',1)[1]\n",
    "    df_rev = pd.concat((df_rev, df_clean), ignore_index=True)"
   ]
  },
  {
   "cell_type": "code",
   "execution_count": 108,
   "metadata": {},
   "outputs": [],
   "source": [
    "df_rev['place_id'] = df_rev['place_id'].str.replace('.json','')"
   ]
  },
  {
   "cell_type": "code",
   "execution_count": 32,
   "metadata": {},
   "outputs": [],
   "source": [
    "rev_dpath = '../data/outputs/cbg_restaurants/'\n",
    "        \n",
    "rev_files = [rev_dpath+ f for f in os.listdir(rev_dpath)]\n",
    "df_rest = pd.DataFrame()\n",
    "for file in rev_files[:500]:\n",
    "    \n",
    "    df = pd.read_json(file)\n",
    "\n",
    "    df_rest = pd.concat((df_rest, df), ignore_index=True)"
   ]
  },
  {
   "cell_type": "code",
   "execution_count": 83,
   "metadata": {},
   "outputs": [],
   "source": [
    "short_pl_id = df_rev[df_rev['place_id'].str.len() < 27]['place_id'].to_list()\n",
    "pl_id_rep = {}\n",
    "for pl_id in short_pl_id:\n",
    "    pl_id_rep[pl_id] = (df_rest[df_rest.place_id.str.startswith(pl_id)]['place_id'].unique())[0]"
   ]
  },
  {
   "cell_type": "code",
   "execution_count": 84,
   "metadata": {},
   "outputs": [],
   "source": [
    "df_rev = df_rev.replace({\"place_id\": pl_id_rep})"
   ]
  },
  {
   "cell_type": "code",
   "execution_count": 113,
   "metadata": {},
   "outputs": [],
   "source": [
    "df_join = df_rest.join(df_rev.set_index('place_id'),on = 'place_id',lsuffix='rest_', how='inner')"
   ]
  },
  {
   "cell_type": "code",
   "execution_count": 135,
   "metadata": {},
   "outputs": [
    {
     "data": {
      "text/plain": [
       "Index(['business_status', 'geometry', 'icon', 'name', 'opening_hours',\n",
       "       'photos', 'place_id', 'plus_code', 'reference', 'scope', 'types',\n",
       "       'vicinity', 'ratingrest_', 'user_ratings_total', 'CBG', 'Radius',\n",
       "       'price_level', 'permanently_closed', 'id_review', 'caption',\n",
       "       'relative_date', 'retrieval_date', 'rating', 'username',\n",
       "       'n_review_user', 'n_photo_user', 'url_user', 'census_block_group'],\n",
       "      dtype='object')"
      ]
     },
     "execution_count": 135,
     "metadata": {},
     "output_type": "execute_result"
    }
   ],
   "source": [
    "df_join.columns"
   ]
  },
  {
   "cell_type": "code",
   "execution_count": 137,
   "metadata": {},
   "outputs": [
    {
     "data": {
      "text/plain": [
       "ChZDSUhNMG9nS0VJQ0FnSUNzOUkzY0lREAE     8\n",
       "ChZDSUhNMG9nS0VJQ0FnSURvanN2Y2VnEAE     8\n",
       "ChdDSUhNMG9nS0VJQ0FnSURNazUtbnZ3RRAB    8\n",
       "ChZDSUhNMG9nS0VJQ0FnSURNaXB5eGZBEAE     8\n",
       "ChZDSUhNMG9nS0VJQ0FnSURpMHRHc1JnEAE     8\n",
       "                                       ..\n",
       "ChdDSUhNMG9nS0VJQ0FnSUN3MXFYYm1BRRAB    2\n",
       "ChZDSUhNMG9nS0VJQ0FnSURRcVp1ZVR3EAE     2\n",
       "ChZDSUhNMG9nS0VJQ0FnSURZb2FpSVVBEAE     2\n",
       "ChZDSUhNMG9nS0VJQ0FnSURVX3BqbVVREAE     2\n",
       "ChZDSUhNMG9nS0VJQ0FnSURBbnZyR01nEAE     2\n",
       "Name: id_review, Length: 34186, dtype: int64"
      ]
     },
     "execution_count": 137,
     "metadata": {},
     "output_type": "execute_result"
    }
   ],
   "source": [
    "x= df_join['id_review'].value_counts()\n",
    "x[x>1]"
   ]
  },
  {
   "cell_type": "code",
   "execution_count": 128,
   "metadata": {},
   "outputs": [
    {
     "data": {
      "text/plain": [
       "<AxesSubplot:>"
      ]
     },
     "execution_count": 128,
     "metadata": {},
     "output_type": "execute_result"
    },
    {
     "data": {
      "image/png": "[encoded data removed]",
      "text/plain": [
       "<Figure size 432x288 with 1 Axes>"
      ]
     },
     "metadata": {
      "needs_background": "light"
     },
     "output_type": "display_data"
    }
   ],
   "source": [
    "np.log10(df_join['place_id'].value_counts()).hist(bins=50)"
   ]
  },
  {
   "cell_type": "code",
   "execution_count": 138,
   "metadata": {},
   "outputs": [],
   "source": [
    "df_join['rev_length'] = df_join.caption.str.len()"
   ]
  },
  {
   "cell_type": "code",
   "execution_count": 139,
   "metadata": {},
   "outputs": [
    {
     "data": {
      "text/html": [
       "<div>\n",
       "<style scoped>\n",
       "    .dataframe tbody tr th:only-of-type {\n",
       "        vertical-align: middle;\n",
       "    }\n",
       "\n",
       "    .dataframe tbody tr th {\n",
       "        vertical-align: top;\n",
       "    }\n",
       "\n",
       "    .dataframe thead th {\n",
       "        text-align: right;\n",
       "    }\n",
       "</style>\n",
       "<table border=\"1\" class=\"dataframe\">\n",
       "  <thead>\n",
       "    <tr style=\"text-align: right;\">\n",
       "      <th></th>\n",
       "      <th>rating</th>\n",
       "      <th>price_level</th>\n",
       "      <th>rev_length</th>\n",
       "    </tr>\n",
       "  </thead>\n",
       "  <tbody>\n",
       "    <tr>\n",
       "      <th>rating</th>\n",
       "      <td>1.000000</td>\n",
       "      <td>0.086009</td>\n",
       "      <td>-0.215392</td>\n",
       "    </tr>\n",
       "    <tr>\n",
       "      <th>price_level</th>\n",
       "      <td>0.086009</td>\n",
       "      <td>1.000000</td>\n",
       "      <td>0.084490</td>\n",
       "    </tr>\n",
       "    <tr>\n",
       "      <th>rev_length</th>\n",
       "      <td>-0.215392</td>\n",
       "      <td>0.084490</td>\n",
       "      <td>1.000000</td>\n",
       "    </tr>\n",
       "  </tbody>\n",
       "</table>\n",
       "</div>"
      ],
      "text/plain": [
       "               rating  price_level  rev_length\n",
       "rating       1.000000     0.086009   -0.215392\n",
       "price_level  0.086009     1.000000    0.084490\n",
       "rev_length  -0.215392     0.084490    1.000000"
      ]
     },
     "execution_count": 139,
     "metadata": {},
     "output_type": "execute_result"
    }
   ],
   "source": [
    "df_join[['rating','price_level','rev_length']].corr()"
   ]
  },
  {
   "cell_type": "code",
   "execution_count": 141,
   "metadata": {},
   "outputs": [
    {
     "data": {
      "text/plain": [
       "2344    Crackin' Kitchen\n",
       "2372    Crackin' Kitchen\n",
       "Name: name, dtype: object"
      ]
     },
     "execution_count": 141,
     "metadata": {},
     "output_type": "execute_result"
    }
   ],
   "source": [
    "df_rest[df_rest.place_id=='ChIJCezJA4ptAHwRd5CueyvT0iw']['name']"
   ]
  },
  {
   "cell_type": "code",
   "execution_count": 144,
   "metadata": {},
   "outputs": [
    {
     "ename": "AttributeError",
     "evalue": "'Series' object has no attribute 'contains'",
     "output_type": "error",
     "traceback": [
      "\u001b[1;31m---------------------------------------------------------------------------\u001b[0m",
      "\u001b[1;31mAttributeError\u001b[0m                            Traceback (most recent call last)",
      "\u001b[1;32m<ipython-input-144-517751b12bd8>\u001b[0m in \u001b[0;36m<module>\u001b[1;34m()\u001b[0m\n\u001b[1;32m----> 1\u001b[1;33m \u001b[0mdf_rest\u001b[0m\u001b[1;33m[\u001b[0m\u001b[0mdf_rest\u001b[0m\u001b[1;33m[\u001b[0m\u001b[1;34m'name'\u001b[0m\u001b[1;33m]\u001b[0m\u001b[1;33m.\u001b[0m\u001b[0mstr\u001b[0m\u001b[1;33m.\u001b[0m\u001b[0mlower\u001b[0m\u001b[1;33m(\u001b[0m\u001b[1;33m)\u001b[0m\u001b[1;33m.\u001b[0m\u001b[0mcontains\u001b[0m\u001b[1;33m(\u001b[0m\u001b[1;34m'McD'\u001b[0m\u001b[1;33m)\u001b[0m\u001b[1;33m]\u001b[0m\u001b[1;33m\u001b[0m\u001b[1;33m\u001b[0m\u001b[0m\n\u001b[0m",
      "\u001b[1;32mC:\\Users\\swami\\Anaconda3\\envs\\base_env\\lib\\site-packages\\pandas\\core\\generic.py\u001b[0m in \u001b[0;36m__getattr__\u001b[1;34m(self, name)\u001b[0m\n\u001b[0;32m   5128\u001b[0m             \u001b[1;32mif\u001b[0m \u001b[0mself\u001b[0m\u001b[1;33m.\u001b[0m\u001b[0m_info_axis\u001b[0m\u001b[1;33m.\u001b[0m\u001b[0m_can_hold_identifiers_and_holds_name\u001b[0m\u001b[1;33m(\u001b[0m\u001b[0mname\u001b[0m\u001b[1;33m)\u001b[0m\u001b[1;33m:\u001b[0m\u001b[1;33m\u001b[0m\u001b[1;33m\u001b[0m\u001b[0m\n\u001b[0;32m   5129\u001b[0m                 \u001b[1;32mreturn\u001b[0m \u001b[0mself\u001b[0m\u001b[1;33m[\u001b[0m\u001b[0mname\u001b[0m\u001b[1;33m]\u001b[0m\u001b[1;33m\u001b[0m\u001b[1;33m\u001b[0m\u001b[0m\n\u001b[1;32m-> 5130\u001b[1;33m             \u001b[1;32mreturn\u001b[0m \u001b[0mobject\u001b[0m\u001b[1;33m.\u001b[0m\u001b[0m__getattribute__\u001b[0m\u001b[1;33m(\u001b[0m\u001b[0mself\u001b[0m\u001b[1;33m,\u001b[0m \u001b[0mname\u001b[0m\u001b[1;33m)\u001b[0m\u001b[1;33m\u001b[0m\u001b[1;33m\u001b[0m\u001b[0m\n\u001b[0m\u001b[0;32m   5131\u001b[0m \u001b[1;33m\u001b[0m\u001b[0m\n\u001b[0;32m   5132\u001b[0m     \u001b[1;32mdef\u001b[0m \u001b[0m__setattr__\u001b[0m\u001b[1;33m(\u001b[0m\u001b[0mself\u001b[0m\u001b[1;33m,\u001b[0m \u001b[0mname\u001b[0m\u001b[1;33m:\u001b[0m \u001b[0mstr\u001b[0m\u001b[1;33m,\u001b[0m \u001b[0mvalue\u001b[0m\u001b[1;33m)\u001b[0m \u001b[1;33m->\u001b[0m \u001b[1;32mNone\u001b[0m\u001b[1;33m:\u001b[0m\u001b[1;33m\u001b[0m\u001b[1;33m\u001b[0m\u001b[0m\n",
      "\u001b[1;31mAttributeError\u001b[0m: 'Series' object has no attribute 'contains'"
     ]
    }
   ],
   "source": [
    "df_rest[df_rest['name'].str.contains('McD')]"
   ]
  },
  {
   "cell_type": "code",
   "execution_count": null,
   "metadata": {},
   "outputs": [],
   "source": []
  }
 ],
 "metadata": {
  "kernelspec": {
   "display_name": "Python 3",
   "language": "python",
   "name": "python3"
  },
  "language_info": {
   "codemirror_mode": {
    "name": "ipython",
    "version": 3
   },
   "file_extension": ".py",
   "mimetype": "text/x-python",
   "name": "python",
   "nbconvert_exporter": "python",
   "pygments_lexer": "ipython3",
   "version": "3.6.12"
  }
 },
 "nbformat": 4,
 "nbformat_minor": 4
}
