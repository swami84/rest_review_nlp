{
 "cells": [
  {
   "cell_type": "code",
   "execution_count": 541,
   "metadata": {},
   "outputs": [],
   "source": [
    "import requests\n",
    "import json\n",
    "import pandas as pd\n",
    "import matplotlib.pyplot as plt\n",
    "import numpy as np\n",
    "import os\n",
    "from bs4 import BeautifulSoup\n",
    "import sys\n",
    "sys.path.append('..')\n",
    "from selenium import webdriver\n",
    "from selenium.webdriver.chrome.options import Options"
   ]
  },
  {
   "cell_type": "code",
   "execution_count": 557,
   "metadata": {},
   "outputs": [],
   "source": [
    "from src.utils import etl\n",
    "import importlib\n",
    "importlib.reload(etl)\n",
    "scraper = etl.ReviewScraper()"
   ]
  },
  {
   "cell_type": "code",
   "execution_count": 440,
   "metadata": {},
   "outputs": [],
   "source": [
    "def get_driver(debug=False):\n",
    "    options = Options()\n",
    "\n",
    "    if not debug:\n",
    "        options.add_argument(\"--headless\")\n",
    "    else:\n",
    "        options.add_argument(\"--window-size=1366,768\")\n",
    "\n",
    "    options.add_argument(\"--disable-notifications\")\n",
    "    options.add_argument(\"--lang=en-US\")\n",
    "    driv_path = '../config/webdrivers/chromedriver.exe'\n",
    "    input_driver = webdriver.Chrome(options=options, executable_path=driv_path)\n",
    "    return input_driver"
   ]
  },
  {
   "cell_type": "code",
   "execution_count": 539,
   "metadata": {},
   "outputs": [],
   "source": [
    "url = 'https://www.google.com/maps/place/Blue+Duck+Tavern/@38.9075033,-77.0399533,15z/data=!4m15!1m9!3m8!1s0x0:0x9f38a9b23f8a1872!2sTabard+Inn!5m2!4m1!1i2!8m2!3d38.9075033!4d-77.0399533!3m4!1s0x0:0xb20039e6193fe0aa!8m2!3d38.9055574!4d-77.0511505'\n",
    "\n",
    "driver.get(url)\n",
    "time.sleep(4)\n"
   ]
  },
  {
   "cell_type": "code",
   "execution_count": null,
   "metadata": {},
   "outputs": [],
   "source": [
    "response.find('div', class_='').find('span').text"
   ]
  },
  {
   "cell_type": "code",
   "execution_count": 540,
   "metadata": {},
   "outputs": [
    {
     "data": {
      "text/plain": [
       "'American restaurant'"
      ]
     },
     "execution_count": 540,
     "metadata": {},
     "output_type": "execute_result"
    }
   ],
   "source": [
    "links = driver.find_elements_by_xpath('//button[@jsaction=\\'pane.rating.category\\']')\n",
    "links[0].text"
   ]
  },
  {
   "cell_type": "code",
   "execution_count": 534,
   "metadata": {},
   "outputs": [
    {
     "data": {
      "text/plain": [
       "[]"
      ]
     },
     "execution_count": 534,
     "metadata": {},
     "output_type": "execute_result"
    }
   ],
   "source": [
    "response.find_all(div='pane')"
   ]
  },
  {
   "cell_type": "code",
   "execution_count": 585,
   "metadata": {},
   "outputs": [
    {
     "data": {
      "text/plain": [
       "'Leku Ona'"
      ]
     },
     "execution_count": 585,
     "metadata": {},
     "output_type": "execute_result"
    }
   ],
   "source": [
    "rest_name"
   ]
  },
  {
   "cell_type": "code",
   "execution_count": 583,
   "metadata": {},
   "outputs": [
    {
     "data": {
      "text/plain": [
       "384"
      ]
     },
     "execution_count": 583,
     "metadata": {},
     "output_type": "execute_result"
    }
   ],
   "source": [
    "file_list.index(file)"
   ]
  },
  {
   "cell_type": "code",
   "execution_count": 587,
   "metadata": {},
   "outputs": [
    {
     "ename": "WebDriverException",
     "evalue": "Message: unknown error: unable to discover open pages\n",
     "output_type": "error",
     "traceback": [
      "\u001b[1;31m---------------------------------------------------------------------------\u001b[0m",
      "\u001b[1;31mWebDriverException\u001b[0m                        Traceback (most recent call last)",
      "\u001b[1;32m<ipython-input-587-d79ccb26eca7>\u001b[0m in \u001b[0;36m<module>\u001b[1;34m()\u001b[0m\n\u001b[0;32m     15\u001b[0m         \u001b[1;32mif\u001b[0m \u001b[0mfpath\u001b[0m \u001b[1;32mnot\u001b[0m \u001b[1;32min\u001b[0m \u001b[0mrev_files\u001b[0m\u001b[1;33m:\u001b[0m\u001b[1;33m\u001b[0m\u001b[1;33m\u001b[0m\u001b[0m\n\u001b[0;32m     16\u001b[0m             \u001b[0murl\u001b[0m \u001b[1;33m=\u001b[0m \u001b[1;34m'https://www.google.com/search?q='\u001b[0m \u001b[1;33m+\u001b[0m \u001b[0mrest_name\u001b[0m \u001b[1;33m+\u001b[0m \u001b[1;34m' '\u001b[0m \u001b[1;33m+\u001b[0m \u001b[0mrest_add\u001b[0m\u001b[1;33m\u001b[0m\u001b[1;33m\u001b[0m\u001b[0m\n\u001b[1;32m---> 17\u001b[1;33m             \u001b[0mdriver\u001b[0m \u001b[1;33m=\u001b[0m \u001b[0mget_driver\u001b[0m\u001b[1;33m(\u001b[0m\u001b[1;33m)\u001b[0m\u001b[1;33m\u001b[0m\u001b[1;33m\u001b[0m\u001b[0m\n\u001b[0m\u001b[0;32m     18\u001b[0m             \u001b[0mdriver\u001b[0m\u001b[1;33m.\u001b[0m\u001b[0mget\u001b[0m\u001b[1;33m(\u001b[0m\u001b[0murl\u001b[0m\u001b[1;33m)\u001b[0m\u001b[1;33m\u001b[0m\u001b[1;33m\u001b[0m\u001b[0m\n\u001b[0;32m     19\u001b[0m             \u001b[0mresponse\u001b[0m \u001b[1;33m=\u001b[0m \u001b[0mBeautifulSoup\u001b[0m\u001b[1;33m(\u001b[0m\u001b[0mdriver\u001b[0m\u001b[1;33m.\u001b[0m\u001b[0mpage_source\u001b[0m\u001b[1;33m,\u001b[0m \u001b[1;34m'html.parser'\u001b[0m\u001b[1;33m)\u001b[0m\u001b[1;33m\u001b[0m\u001b[1;33m\u001b[0m\u001b[0m\n",
      "\u001b[1;32m<ipython-input-440-02442847bf95>\u001b[0m in \u001b[0;36mget_driver\u001b[1;34m(debug)\u001b[0m\n\u001b[0;32m     10\u001b[0m     \u001b[0moptions\u001b[0m\u001b[1;33m.\u001b[0m\u001b[0madd_argument\u001b[0m\u001b[1;33m(\u001b[0m\u001b[1;34m\"--lang=en-US\"\u001b[0m\u001b[1;33m)\u001b[0m\u001b[1;33m\u001b[0m\u001b[1;33m\u001b[0m\u001b[0m\n\u001b[0;32m     11\u001b[0m     \u001b[0mdriv_path\u001b[0m \u001b[1;33m=\u001b[0m \u001b[1;34m'../config/webdrivers/chromedriver.exe'\u001b[0m\u001b[1;33m\u001b[0m\u001b[1;33m\u001b[0m\u001b[0m\n\u001b[1;32m---> 12\u001b[1;33m     \u001b[0minput_driver\u001b[0m \u001b[1;33m=\u001b[0m \u001b[0mwebdriver\u001b[0m\u001b[1;33m.\u001b[0m\u001b[0mChrome\u001b[0m\u001b[1;33m(\u001b[0m\u001b[0moptions\u001b[0m\u001b[1;33m=\u001b[0m\u001b[0moptions\u001b[0m\u001b[1;33m,\u001b[0m \u001b[0mexecutable_path\u001b[0m\u001b[1;33m=\u001b[0m\u001b[0mdriv_path\u001b[0m\u001b[1;33m)\u001b[0m\u001b[1;33m\u001b[0m\u001b[1;33m\u001b[0m\u001b[0m\n\u001b[0m\u001b[0;32m     13\u001b[0m     \u001b[1;32mreturn\u001b[0m \u001b[0minput_driver\u001b[0m\u001b[1;33m\u001b[0m\u001b[1;33m\u001b[0m\u001b[0m\n",
      "\u001b[1;32mC:\\Users\\swami\\Anaconda3\\envs\\base_env\\lib\\site-packages\\selenium\\webdriver\\chrome\\webdriver.py\u001b[0m in \u001b[0;36m__init__\u001b[1;34m(self, executable_path, port, options, service_args, desired_capabilities, service_log_path, chrome_options, keep_alive)\u001b[0m\n\u001b[0;32m     79\u001b[0m                     \u001b[0mremote_server_addr\u001b[0m\u001b[1;33m=\u001b[0m\u001b[0mself\u001b[0m\u001b[1;33m.\u001b[0m\u001b[0mservice\u001b[0m\u001b[1;33m.\u001b[0m\u001b[0mservice_url\u001b[0m\u001b[1;33m,\u001b[0m\u001b[1;33m\u001b[0m\u001b[1;33m\u001b[0m\u001b[0m\n\u001b[0;32m     80\u001b[0m                     keep_alive=keep_alive),\n\u001b[1;32m---> 81\u001b[1;33m                 desired_capabilities=desired_capabilities)\n\u001b[0m\u001b[0;32m     82\u001b[0m         \u001b[1;32mexcept\u001b[0m \u001b[0mException\u001b[0m\u001b[1;33m:\u001b[0m\u001b[1;33m\u001b[0m\u001b[1;33m\u001b[0m\u001b[0m\n\u001b[0;32m     83\u001b[0m             \u001b[0mself\u001b[0m\u001b[1;33m.\u001b[0m\u001b[0mquit\u001b[0m\u001b[1;33m(\u001b[0m\u001b[1;33m)\u001b[0m\u001b[1;33m\u001b[0m\u001b[1;33m\u001b[0m\u001b[0m\n",
      "\u001b[1;32mC:\\Users\\swami\\Anaconda3\\envs\\base_env\\lib\\site-packages\\selenium\\webdriver\\remote\\webdriver.py\u001b[0m in \u001b[0;36m__init__\u001b[1;34m(self, command_executor, desired_capabilities, browser_profile, proxy, keep_alive, file_detector, options)\u001b[0m\n\u001b[0;32m    155\u001b[0m             warnings.warn(\"Please use FirefoxOptions to set browser profile\",\n\u001b[0;32m    156\u001b[0m                           DeprecationWarning, stacklevel=2)\n\u001b[1;32m--> 157\u001b[1;33m         \u001b[0mself\u001b[0m\u001b[1;33m.\u001b[0m\u001b[0mstart_session\u001b[0m\u001b[1;33m(\u001b[0m\u001b[0mcapabilities\u001b[0m\u001b[1;33m,\u001b[0m \u001b[0mbrowser_profile\u001b[0m\u001b[1;33m)\u001b[0m\u001b[1;33m\u001b[0m\u001b[1;33m\u001b[0m\u001b[0m\n\u001b[0m\u001b[0;32m    158\u001b[0m         \u001b[0mself\u001b[0m\u001b[1;33m.\u001b[0m\u001b[0m_switch_to\u001b[0m \u001b[1;33m=\u001b[0m \u001b[0mSwitchTo\u001b[0m\u001b[1;33m(\u001b[0m\u001b[0mself\u001b[0m\u001b[1;33m)\u001b[0m\u001b[1;33m\u001b[0m\u001b[1;33m\u001b[0m\u001b[0m\n\u001b[0;32m    159\u001b[0m         \u001b[0mself\u001b[0m\u001b[1;33m.\u001b[0m\u001b[0m_mobile\u001b[0m \u001b[1;33m=\u001b[0m \u001b[0mMobile\u001b[0m\u001b[1;33m(\u001b[0m\u001b[0mself\u001b[0m\u001b[1;33m)\u001b[0m\u001b[1;33m\u001b[0m\u001b[1;33m\u001b[0m\u001b[0m\n",
      "\u001b[1;32mC:\\Users\\swami\\Anaconda3\\envs\\base_env\\lib\\site-packages\\selenium\\webdriver\\remote\\webdriver.py\u001b[0m in \u001b[0;36mstart_session\u001b[1;34m(self, capabilities, browser_profile)\u001b[0m\n\u001b[0;32m    250\u001b[0m         parameters = {\"capabilities\": w3c_caps,\n\u001b[0;32m    251\u001b[0m                       \"desiredCapabilities\": capabilities}\n\u001b[1;32m--> 252\u001b[1;33m         \u001b[0mresponse\u001b[0m \u001b[1;33m=\u001b[0m \u001b[0mself\u001b[0m\u001b[1;33m.\u001b[0m\u001b[0mexecute\u001b[0m\u001b[1;33m(\u001b[0m\u001b[0mCommand\u001b[0m\u001b[1;33m.\u001b[0m\u001b[0mNEW_SESSION\u001b[0m\u001b[1;33m,\u001b[0m \u001b[0mparameters\u001b[0m\u001b[1;33m)\u001b[0m\u001b[1;33m\u001b[0m\u001b[1;33m\u001b[0m\u001b[0m\n\u001b[0m\u001b[0;32m    253\u001b[0m         \u001b[1;32mif\u001b[0m \u001b[1;34m'sessionId'\u001b[0m \u001b[1;32mnot\u001b[0m \u001b[1;32min\u001b[0m \u001b[0mresponse\u001b[0m\u001b[1;33m:\u001b[0m\u001b[1;33m\u001b[0m\u001b[1;33m\u001b[0m\u001b[0m\n\u001b[0;32m    254\u001b[0m             \u001b[0mresponse\u001b[0m \u001b[1;33m=\u001b[0m \u001b[0mresponse\u001b[0m\u001b[1;33m[\u001b[0m\u001b[1;34m'value'\u001b[0m\u001b[1;33m]\u001b[0m\u001b[1;33m\u001b[0m\u001b[1;33m\u001b[0m\u001b[0m\n",
      "\u001b[1;32mC:\\Users\\swami\\Anaconda3\\envs\\base_env\\lib\\site-packages\\selenium\\webdriver\\remote\\webdriver.py\u001b[0m in \u001b[0;36mexecute\u001b[1;34m(self, driver_command, params)\u001b[0m\n\u001b[0;32m    319\u001b[0m         \u001b[0mresponse\u001b[0m \u001b[1;33m=\u001b[0m \u001b[0mself\u001b[0m\u001b[1;33m.\u001b[0m\u001b[0mcommand_executor\u001b[0m\u001b[1;33m.\u001b[0m\u001b[0mexecute\u001b[0m\u001b[1;33m(\u001b[0m\u001b[0mdriver_command\u001b[0m\u001b[1;33m,\u001b[0m \u001b[0mparams\u001b[0m\u001b[1;33m)\u001b[0m\u001b[1;33m\u001b[0m\u001b[1;33m\u001b[0m\u001b[0m\n\u001b[0;32m    320\u001b[0m         \u001b[1;32mif\u001b[0m \u001b[0mresponse\u001b[0m\u001b[1;33m:\u001b[0m\u001b[1;33m\u001b[0m\u001b[1;33m\u001b[0m\u001b[0m\n\u001b[1;32m--> 321\u001b[1;33m             \u001b[0mself\u001b[0m\u001b[1;33m.\u001b[0m\u001b[0merror_handler\u001b[0m\u001b[1;33m.\u001b[0m\u001b[0mcheck_response\u001b[0m\u001b[1;33m(\u001b[0m\u001b[0mresponse\u001b[0m\u001b[1;33m)\u001b[0m\u001b[1;33m\u001b[0m\u001b[1;33m\u001b[0m\u001b[0m\n\u001b[0m\u001b[0;32m    322\u001b[0m             response['value'] = self._unwrap_value(\n\u001b[0;32m    323\u001b[0m                 response.get('value', None))\n",
      "\u001b[1;32mC:\\Users\\swami\\Anaconda3\\envs\\base_env\\lib\\site-packages\\selenium\\webdriver\\remote\\errorhandler.py\u001b[0m in \u001b[0;36mcheck_response\u001b[1;34m(self, response)\u001b[0m\n\u001b[0;32m    240\u001b[0m                 \u001b[0malert_text\u001b[0m \u001b[1;33m=\u001b[0m \u001b[0mvalue\u001b[0m\u001b[1;33m[\u001b[0m\u001b[1;34m'alert'\u001b[0m\u001b[1;33m]\u001b[0m\u001b[1;33m.\u001b[0m\u001b[0mget\u001b[0m\u001b[1;33m(\u001b[0m\u001b[1;34m'text'\u001b[0m\u001b[1;33m)\u001b[0m\u001b[1;33m\u001b[0m\u001b[1;33m\u001b[0m\u001b[0m\n\u001b[0;32m    241\u001b[0m             \u001b[1;32mraise\u001b[0m \u001b[0mexception_class\u001b[0m\u001b[1;33m(\u001b[0m\u001b[0mmessage\u001b[0m\u001b[1;33m,\u001b[0m \u001b[0mscreen\u001b[0m\u001b[1;33m,\u001b[0m \u001b[0mstacktrace\u001b[0m\u001b[1;33m,\u001b[0m \u001b[0malert_text\u001b[0m\u001b[1;33m)\u001b[0m\u001b[1;33m\u001b[0m\u001b[1;33m\u001b[0m\u001b[0m\n\u001b[1;32m--> 242\u001b[1;33m         \u001b[1;32mraise\u001b[0m \u001b[0mexception_class\u001b[0m\u001b[1;33m(\u001b[0m\u001b[0mmessage\u001b[0m\u001b[1;33m,\u001b[0m \u001b[0mscreen\u001b[0m\u001b[1;33m,\u001b[0m \u001b[0mstacktrace\u001b[0m\u001b[1;33m)\u001b[0m\u001b[1;33m\u001b[0m\u001b[1;33m\u001b[0m\u001b[0m\n\u001b[0m\u001b[0;32m    243\u001b[0m \u001b[1;33m\u001b[0m\u001b[0m\n\u001b[0;32m    244\u001b[0m     \u001b[1;32mdef\u001b[0m \u001b[0m_value_or_default\u001b[0m\u001b[1;33m(\u001b[0m\u001b[0mself\u001b[0m\u001b[1;33m,\u001b[0m \u001b[0mobj\u001b[0m\u001b[1;33m,\u001b[0m \u001b[0mkey\u001b[0m\u001b[1;33m,\u001b[0m \u001b[0mdefault\u001b[0m\u001b[1;33m)\u001b[0m\u001b[1;33m:\u001b[0m\u001b[1;33m\u001b[0m\u001b[1;33m\u001b[0m\u001b[0m\n",
      "\u001b[1;31mWebDriverException\u001b[0m: Message: unknown error: unable to discover open pages\n"
     ]
    }
   ],
   "source": [
    "dpath = '../data/outputs/'+'cbg_restaurants/'\n",
    "\n",
    "file_list = [dpath+ f for f in os.listdir(dpath)]\n",
    "for file in file_list[383:]:\n",
    "    df = pd.read_json(file)\n",
    "    for idx,i in df.iterrows():\n",
    "        cbg, rest_name,rest_add,place_id = i['CBG'],i['name'],i['vicinity'],i['reference']\n",
    "        rev_dpath = '../data/outputs/reviews/'\n",
    "        \n",
    "        fpath = rev_dpath + str(cbg)+ '_' + place_id + '.json'\n",
    "        rev_files = [rev_dpath+ f for f in os.listdir(rev_dpath)]\n",
    "        if 'Hotel' in rest_name or 'InterContinental' in rest_name or 'Plaza' in rest_name \\\n",
    "                or 'Inn' in rest_name or 'Leku' in rest_name:\n",
    "            continue\n",
    "        \n",
    "        if fpath not in rev_files:\n",
    "            url = 'https://www.google.com/search?q=' + rest_name + ' ' + rest_add\n",
    "            driver = get_driver()\n",
    "            driver.get(url)\n",
    "            response = BeautifulSoup(driver.page_source, 'html.parser')\n",
    "\n",
    "            for res in response.find_all('a', href=True):\n",
    "                if 'maps.google' in res['href']:\n",
    "                    map_url  = res['href']\n",
    "            place_data = scraper.get_place_data(map_url)\n",
    "            n_reviews = place_data['n_reviews']\n",
    "\n",
    "            if n_reviews >0:\n",
    "                if n_reviews > 500:\n",
    "                    n_reviews = 0.8 * n_reviews\n",
    "                revs = scraper.get_reviews(n_reviews,map_url,cbg,place_id)\n",
    "\n",
    "    "
   ]
  },
  {
   "cell_type": "code",
   "execution_count": 487,
   "metadata": {},
   "outputs": [
    {
     "data": {
      "text/html": [
       "<div>\n",
       "<style scoped>\n",
       "    .dataframe tbody tr th:only-of-type {\n",
       "        vertical-align: middle;\n",
       "    }\n",
       "\n",
       "    .dataframe tbody tr th {\n",
       "        vertical-align: top;\n",
       "    }\n",
       "\n",
       "    .dataframe thead th {\n",
       "        text-align: right;\n",
       "    }\n",
       "</style>\n",
       "<table border=\"1\" class=\"dataframe\">\n",
       "  <thead>\n",
       "    <tr style=\"text-align: right;\">\n",
       "      <th></th>\n",
       "      <th>id_review</th>\n",
       "      <th>caption</th>\n",
       "      <th>relative_date</th>\n",
       "      <th>retrieval_date</th>\n",
       "      <th>rating</th>\n",
       "      <th>username</th>\n",
       "      <th>n_review_user</th>\n",
       "      <th>n_photo_user</th>\n",
       "      <th>url_user</th>\n",
       "      <th>census_block_group</th>\n",
       "    </tr>\n",
       "  </thead>\n",
       "  <tbody>\n",
       "    <tr>\n",
       "      <th>0</th>\n",
       "      <td>ChZDSUhNMG9nS0VJQ0FnSUR5NzhqZEdREAE</td>\n",
       "      <td>GREAT PLACE TO EAT. FRIENDLY SERVICE, AND DELI...</td>\n",
       "      <td>15 hours ago</td>\n",
       "      <td>2021-03-23</td>\n",
       "      <td>5</td>\n",
       "      <td>Derek Hill</td>\n",
       "      <td>5</td>\n",
       "      <td>0</td>\n",
       "      <td>https://www.google.com/maps/contrib/1084165022...</td>\n",
       "      <td>10890021003</td>\n",
       "    </tr>\n",
       "    <tr>\n",
       "      <th>1</th>\n",
       "      <td>ChdDSUhNMG9nS0VJQ0FnSUR5cThpaHBBRRAB</td>\n",
       "      <td></td>\n",
       "      <td>5 days ago</td>\n",
       "      <td>2021-03-23</td>\n",
       "      <td>5</td>\n",
       "      <td>LEE CHAMBERS</td>\n",
       "      <td>26</td>\n",
       "      <td>0</td>\n",
       "      <td>https://www.google.com/maps/contrib/1089573405...</td>\n",
       "      <td>10890021003</td>\n",
       "    </tr>\n",
       "    <tr>\n",
       "      <th>2</th>\n",
       "      <td>ChdDSUhNMG9nS0VJQ0FnSUR5aThPMXJBRRAB</td>\n",
       "      <td>Ok</td>\n",
       "      <td>5 days ago</td>\n",
       "      <td>2021-03-23</td>\n",
       "      <td>5</td>\n",
       "      <td>Alethia Lacy</td>\n",
       "      <td>0</td>\n",
       "      <td>0</td>\n",
       "      <td>https://www.google.com/maps/contrib/1084799071...</td>\n",
       "      <td>10890021003</td>\n",
       "    </tr>\n",
       "    <tr>\n",
       "      <th>3</th>\n",
       "      <td>ChZDSUhNMG9nS0VJQ0FnSUR5emZtemV3EAE</td>\n",
       "      <td>Love everything about it</td>\n",
       "      <td>a week ago</td>\n",
       "      <td>2021-03-23</td>\n",
       "      <td>5</td>\n",
       "      <td>Lynda Hall</td>\n",
       "      <td>103</td>\n",
       "      <td>0</td>\n",
       "      <td>https://www.google.com/maps/contrib/1132653948...</td>\n",
       "      <td>10890021003</td>\n",
       "    </tr>\n",
       "    <tr>\n",
       "      <th>4</th>\n",
       "      <td>ChZDSUhNMG9nS0VJQ0FnSUR5eGJXRkp3EAE</td>\n",
       "      <td>Best burger and fries I have ever tasted. Is l...</td>\n",
       "      <td>a week ago</td>\n",
       "      <td>2021-03-23</td>\n",
       "      <td>5</td>\n",
       "      <td>Mar Tina</td>\n",
       "      <td>0</td>\n",
       "      <td>0</td>\n",
       "      <td>https://www.google.com/maps/contrib/1059556461...</td>\n",
       "      <td>10890021003</td>\n",
       "    </tr>\n",
       "    <tr>\n",
       "      <th>...</th>\n",
       "      <td>...</td>\n",
       "      <td>...</td>\n",
       "      <td>...</td>\n",
       "      <td>...</td>\n",
       "      <td>...</td>\n",
       "      <td>...</td>\n",
       "      <td>...</td>\n",
       "      <td>...</td>\n",
       "      <td>...</td>\n",
       "      <td>...</td>\n",
       "    </tr>\n",
       "    <tr>\n",
       "      <th>925</th>\n",
       "      <td>ChZDSUhNMG9nS0VJQ0FnSURBc01idkNREAE</td>\n",
       "      <td></td>\n",
       "      <td>4 years ago</td>\n",
       "      <td>2021-03-23</td>\n",
       "      <td>5</td>\n",
       "      <td>Royce Bryant</td>\n",
       "      <td>0</td>\n",
       "      <td>0</td>\n",
       "      <td>https://www.google.com/maps/contrib/1057974504...</td>\n",
       "      <td>10890021003</td>\n",
       "    </tr>\n",
       "    <tr>\n",
       "      <th>926</th>\n",
       "      <td>ChdDSUhNMG9nS0VJQ0FnSUN3em9IWnJRRRAB</td>\n",
       "      <td>So good. All of the seating is at the counter....</td>\n",
       "      <td>4 years ago</td>\n",
       "      <td>2021-03-23</td>\n",
       "      <td>5</td>\n",
       "      <td>Samuel Cordner</td>\n",
       "      <td>0</td>\n",
       "      <td>0</td>\n",
       "      <td>https://www.google.com/maps/contrib/1001352608...</td>\n",
       "      <td>10890021003</td>\n",
       "    </tr>\n",
       "    <tr>\n",
       "      <th>927</th>\n",
       "      <td>ChZDSUhNMG9nS0VJQ0FnSUNnNzl1MU5BEAE</td>\n",
       "      <td></td>\n",
       "      <td>4 years ago</td>\n",
       "      <td>2021-03-23</td>\n",
       "      <td>5</td>\n",
       "      <td>Teresa Moore</td>\n",
       "      <td>5</td>\n",
       "      <td>0</td>\n",
       "      <td>https://www.google.com/maps/contrib/1183064930...</td>\n",
       "      <td>10890021003</td>\n",
       "    </tr>\n",
       "    <tr>\n",
       "      <th>928</th>\n",
       "      <td>ChZDSUhNMG9nS0VJQ0FnSUNBMnRhbFFREAE</td>\n",
       "      <td>4 stars for fun and friendly service, 3 stars ...</td>\n",
       "      <td>4 years ago</td>\n",
       "      <td>2021-03-23</td>\n",
       "      <td>3</td>\n",
       "      <td>Beau Helton</td>\n",
       "      <td>0</td>\n",
       "      <td>0</td>\n",
       "      <td>https://www.google.com/maps/contrib/1177112957...</td>\n",
       "      <td>10890021003</td>\n",
       "    </tr>\n",
       "    <tr>\n",
       "      <th>929</th>\n",
       "      <td>ChdDSUhNMG9nS0VJQ0FnSUNRdFBlcS13RRAB</td>\n",
       "      <td>(Translated by Google) GRRREAT !!  (Original) ...</td>\n",
       "      <td>5 years ago</td>\n",
       "      <td>2021-03-23</td>\n",
       "      <td>5</td>\n",
       "      <td>Dasia Wiggis</td>\n",
       "      <td>1</td>\n",
       "      <td>0</td>\n",
       "      <td>https://www.google.com/maps/contrib/1179440615...</td>\n",
       "      <td>10890021003</td>\n",
       "    </tr>\n",
       "  </tbody>\n",
       "</table>\n",
       "<p>930 rows × 10 columns</p>\n",
       "</div>"
      ],
      "text/plain": [
       "                                id_review  \\\n",
       "0     ChZDSUhNMG9nS0VJQ0FnSUR5NzhqZEdREAE   \n",
       "1    ChdDSUhNMG9nS0VJQ0FnSUR5cThpaHBBRRAB   \n",
       "2    ChdDSUhNMG9nS0VJQ0FnSUR5aThPMXJBRRAB   \n",
       "3     ChZDSUhNMG9nS0VJQ0FnSUR5emZtemV3EAE   \n",
       "4     ChZDSUhNMG9nS0VJQ0FnSUR5eGJXRkp3EAE   \n",
       "..                                    ...   \n",
       "925   ChZDSUhNMG9nS0VJQ0FnSURBc01idkNREAE   \n",
       "926  ChdDSUhNMG9nS0VJQ0FnSUN3em9IWnJRRRAB   \n",
       "927   ChZDSUhNMG9nS0VJQ0FnSUNnNzl1MU5BEAE   \n",
       "928   ChZDSUhNMG9nS0VJQ0FnSUNBMnRhbFFREAE   \n",
       "929  ChdDSUhNMG9nS0VJQ0FnSUNRdFBlcS13RRAB   \n",
       "\n",
       "                                               caption relative_date  \\\n",
       "0    GREAT PLACE TO EAT. FRIENDLY SERVICE, AND DELI...  15 hours ago   \n",
       "1                                                         5 days ago   \n",
       "2                                                   Ok    5 days ago   \n",
       "3                             Love everything about it    a week ago   \n",
       "4    Best burger and fries I have ever tasted. Is l...    a week ago   \n",
       "..                                                 ...           ...   \n",
       "925                                                      4 years ago   \n",
       "926  So good. All of the seating is at the counter....   4 years ago   \n",
       "927                                                      4 years ago   \n",
       "928  4 stars for fun and friendly service, 3 stars ...   4 years ago   \n",
       "929  (Translated by Google) GRRREAT !!  (Original) ...   5 years ago   \n",
       "\n",
       "    retrieval_date  rating        username  n_review_user  n_photo_user  \\\n",
       "0       2021-03-23       5      Derek Hill              5             0   \n",
       "1       2021-03-23       5    LEE CHAMBERS             26             0   \n",
       "2       2021-03-23       5    Alethia Lacy              0             0   \n",
       "3       2021-03-23       5      Lynda Hall            103             0   \n",
       "4       2021-03-23       5        Mar Tina              0             0   \n",
       "..             ...     ...             ...            ...           ...   \n",
       "925     2021-03-23       5    Royce Bryant              0             0   \n",
       "926     2021-03-23       5  Samuel Cordner              0             0   \n",
       "927     2021-03-23       5    Teresa Moore              5             0   \n",
       "928     2021-03-23       3     Beau Helton              0             0   \n",
       "929     2021-03-23       5    Dasia Wiggis              1             0   \n",
       "\n",
       "                                              url_user  census_block_group  \n",
       "0    https://www.google.com/maps/contrib/1084165022...         10890021003  \n",
       "1    https://www.google.com/maps/contrib/1089573405...         10890021003  \n",
       "2    https://www.google.com/maps/contrib/1084799071...         10890021003  \n",
       "3    https://www.google.com/maps/contrib/1132653948...         10890021003  \n",
       "4    https://www.google.com/maps/contrib/1059556461...         10890021003  \n",
       "..                                                 ...                 ...  \n",
       "925  https://www.google.com/maps/contrib/1057974504...         10890021003  \n",
       "926  https://www.google.com/maps/contrib/1001352608...         10890021003  \n",
       "927  https://www.google.com/maps/contrib/1183064930...         10890021003  \n",
       "928  https://www.google.com/maps/contrib/1177112957...         10890021003  \n",
       "929  https://www.google.com/maps/contrib/1179440615...         10890021003  \n",
       "\n",
       "[930 rows x 10 columns]"
      ]
     },
     "execution_count": 487,
     "metadata": {},
     "output_type": "execute_result"
    }
   ],
   "source": [
    "df_test = pd.read_json('../data/outputs/reviews/10890021003_ChIJNRYaQ5lsYogRKbgbcK2R52w.json')\n",
    "df_test"
   ]
  },
  {
   "cell_type": "code",
   "execution_count": null,
   "metadata": {},
   "outputs": [],
   "source": [
    "df_rev['rev_length'] = df_rev['caption'].str.len()\n",
    "df_rev[['rating', 'rev_length']].corr()"
   ]
  },
  {
   "cell_type": "code",
   "execution_count": null,
   "metadata": {},
   "outputs": [],
   "source": []
  }
 ],
 "metadata": {
  "kernelspec": {
   "display_name": "Python 3",
   "language": "python",
   "name": "python3"
  },
  "language_info": {
   "codemirror_mode": {
    "name": "ipython",
    "version": 3
   },
   "file_extension": ".py",
   "mimetype": "text/x-python",
   "name": "python",
   "nbconvert_exporter": "python",
   "pygments_lexer": "ipython3",
   "version": "3.6.12"
  }
 },
 "nbformat": 4,
 "nbformat_minor": 4
}
