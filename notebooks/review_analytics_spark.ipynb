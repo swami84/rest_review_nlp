{
 "cells": [
  {
   "cell_type": "code",
   "execution_count": 85,
   "id": "orange-roommate",
   "metadata": {},
   "outputs": [],
   "source": [
    "# Download important libraries\n",
    "%matplotlib inline\n",
    "import matplotlib.pyplot as plt\n",
    "# import seaborn as sns\n",
    "import pandas as pd\n",
    "import numpy as np\n",
    "import tensorflow as tf\n",
    "from tensorflow import keras\n",
    "np.random.seed(42)\n",
    "tf.random.set_seed(42)\n",
    "import json\n",
    "import os\n",
    "from os import path\n",
    "import tarfile\n",
    "import sparknlp\n",
    "from pyspark.sql import SparkSession\n",
    "from pyspark.ml import Pipeline\n",
    "from pyspark.sql.functions import array_contains\n",
    "from sparknlp.annotator import *\n",
    "from sparknlp.common import RegexRule\n",
    "from sparknlp.base import DocumentAssembler, Finisher\n",
    "from pyspark.sql.functions import udf\n",
    "from pyspark.sql.functions import monotonically_increasing_id\n",
    "from pyspark.sql.functions import regexp_replace, col\n",
    "from functools import reduce\n",
    "pipeline=None\n",
    "import time\n",
    "import warnings\n",
    "warnings.filterwarnings('ignore')"
   ]
  },
  {
   "cell_type": "code",
   "execution_count": null,
   "id": "informative-lying",
   "metadata": {},
   "outputs": [],
   "source": [
    "import findspark\n",
    "findspark.init()\n",
    "findspark.find()\n",
    "import pyspark\n",
    "findspark.find()"
   ]
  },
  {
   "cell_type": "code",
   "execution_count": 20,
   "id": "satellite-outdoors",
   "metadata": {},
   "outputs": [],
   "source": [
    "spark = sparknlp.start(gpu=True) \n",
    "spark"
   ]
  },
  {
   "cell_type": "code",
   "execution_count": 159,
   "id": "violent-mississippi",
   "metadata": {},
   "outputs": [],
   "source": [
    "def clean_df(df):\n",
    "    df = df[df.caption != '']\n",
    "    return df.reset_index(drop=True)"
   ]
  },
  {
   "cell_type": "code",
   "execution_count": 201,
   "id": "discrete-manufacturer",
   "metadata": {},
   "outputs": [
    {
     "name": "stdout",
     "output_type": "stream",
     "text": [
      "Fold  3  Done. Time Taken =  333.55541253089905\n",
      "Fold  4  Done. Time Taken =  666.4528720378876\n"
     ]
    }
   ],
   "source": [
    "st_time = time.time()\n",
    "rev_dpath = '../data/outputs/reviews/'\n",
    "        \n",
    "rev_files = [rev_dpath+ f for f in os.listdir(rev_dpath)]\n",
    "folds = len(rev_files)//2000\n",
    "for i in range(folds)[1:]:\n",
    "    parq_dpath = '../data/spark/reviews/'\n",
    "    parq_fname = '../data/spark/reviews/review_fold_' + str(i) + '.parq'\n",
    "    parq_files = [parq_dpath+ f for f in os.listdir(parq_dpath)]\n",
    "    if parq_fname not in parq_files[:-1]:\n",
    "        df_rev = pd.DataFrame()\n",
    "        if i*2000 < len(rev_files):\n",
    "            rev_files_fold = rev_files[i*2000:(i+1)*2000]\n",
    "        else:\n",
    "            rev_files_fold = rev_files[i*2000:]\n",
    "        for file in rev_files_fold:\n",
    "\n",
    "            df = pd.read_json(file)\n",
    "\n",
    "            df['place_id'] = file.split('_',1)[1]\n",
    "            df['place_id'] = df['place_id'].str.replace('.json','')\n",
    "            df_rev = pd.concat((df_rev, df), ignore_index=True)\n",
    "\n",
    "        df_rev.to_parquet(parq_fname)\n",
    "        print('Fold ',str(i), ' Done. Time Taken = ',time.time()-st_time)\n",
    "    "
   ]
  },
  {
   "cell_type": "code",
   "execution_count": 202,
   "id": "split-richards",
   "metadata": {},
   "outputs": [
    {
     "data": {
      "text/html": [
       "<div>\n",
       "<style scoped>\n",
       "    .dataframe tbody tr th:only-of-type {\n",
       "        vertical-align: middle;\n",
       "    }\n",
       "\n",
       "    .dataframe tbody tr th {\n",
       "        vertical-align: top;\n",
       "    }\n",
       "\n",
       "    .dataframe thead th {\n",
       "        text-align: right;\n",
       "    }\n",
       "</style>\n",
       "<table border=\"1\" class=\"dataframe\">\n",
       "  <thead>\n",
       "    <tr style=\"text-align: right;\">\n",
       "      <th></th>\n",
       "      <th>id_review</th>\n",
       "      <th>caption</th>\n",
       "      <th>relative_date</th>\n",
       "      <th>retrieval_date</th>\n",
       "      <th>rating</th>\n",
       "      <th>username</th>\n",
       "      <th>n_review_user</th>\n",
       "      <th>n_photo_user</th>\n",
       "      <th>url_user</th>\n",
       "      <th>census_block_group</th>\n",
       "      <th>place_id</th>\n",
       "    </tr>\n",
       "  </thead>\n",
       "  <tbody>\n",
       "    <tr>\n",
       "      <th>806753</th>\n",
       "      <td>ChdDSUhNMG9nS0VJQ0FnSURpZ3FHeV9nRRAB</td>\n",
       "      <td>I’m so happy I found this place!!! I’ve been l...</td>\n",
       "      <td>4 months ago</td>\n",
       "      <td>2021-04-01</td>\n",
       "      <td>5</td>\n",
       "      <td>Biata Krukover</td>\n",
       "      <td>1</td>\n",
       "      <td>0</td>\n",
       "      <td>https://www.google.com/maps/contrib/1133440385...</td>\n",
       "      <td>360470021002</td>\n",
       "      <td>ChIJ0yortrJbwokRATW7F2DeED0</td>\n",
       "    </tr>\n",
       "    <tr>\n",
       "      <th>43543</th>\n",
       "      <td>ChdDSUhNMG9nS0VJQ0FnSURZdDRHbTBBRRAB</td>\n",
       "      <td>Always a good time, they do get packed and the...</td>\n",
       "      <td>a year ago</td>\n",
       "      <td>2021-03-23</td>\n",
       "      <td>5</td>\n",
       "      <td>Vanessa A</td>\n",
       "      <td>0</td>\n",
       "      <td>0</td>\n",
       "      <td>https://www.google.com/maps/contrib/1021299161...</td>\n",
       "      <td>110010044002</td>\n",
       "      <td>ChIJgSkWc-W3t4kRGPYlTbHAJe4</td>\n",
       "    </tr>\n",
       "  </tbody>\n",
       "</table>\n",
       "</div>"
      ],
      "text/plain": [
       "                                   id_review  \\\n",
       "806753  ChdDSUhNMG9nS0VJQ0FnSURpZ3FHeV9nRRAB   \n",
       "43543   ChdDSUhNMG9nS0VJQ0FnSURZdDRHbTBBRRAB   \n",
       "\n",
       "                                                  caption relative_date  \\\n",
       "806753  I’m so happy I found this place!!! I’ve been l...  4 months ago   \n",
       "43543   Always a good time, they do get packed and the...    a year ago   \n",
       "\n",
       "       retrieval_date  rating        username  n_review_user  n_photo_user  \\\n",
       "806753     2021-04-01       5  Biata Krukover              1             0   \n",
       "43543      2021-03-23       5       Vanessa A              0             0   \n",
       "\n",
       "                                                 url_user  census_block_group  \\\n",
       "806753  https://www.google.com/maps/contrib/1133440385...        360470021002   \n",
       "43543   https://www.google.com/maps/contrib/1021299161...        110010044002   \n",
       "\n",
       "                           place_id  \n",
       "806753  ChIJ0yortrJbwokRATW7F2DeED0  \n",
       "43543   ChIJgSkWc-W3t4kRGPYlTbHAJe4  "
      ]
     },
     "execution_count": 202,
     "metadata": {},
     "output_type": "execute_result"
    }
   ],
   "source": [
    "df_reviews = pd.DataFrame()\n",
    "rev_parq_dir = '../data/spark/reviews/'\n",
    "parq_files = [rev_parq_dir+ f for f in os.listdir(rev_parq_dir) if os.path.isfile(rev_parq_dir+ f)]\n",
    "df_review = pd.DataFrame()\n",
    "for file in parq_files:\n",
    "    df_fold = pd.read_parquet(file)\n",
    "    df_review = pd.concat((df_review, df_fold), ignore_index=True)\n",
    "df_review = clean_df(df_review)\n",
    "df_review = df_review.drop_duplicates(subset = ['id_review'], keep='first')\n",
    "df_review.sample(2)"
   ]
  },
  {
   "cell_type": "code",
   "execution_count": 204,
   "id": "driven-partner",
   "metadata": {},
   "outputs": [
    {
     "data": {
      "text/html": [
       "<div>\n",
       "<style scoped>\n",
       "    .dataframe tbody tr th:only-of-type {\n",
       "        vertical-align: middle;\n",
       "    }\n",
       "\n",
       "    .dataframe tbody tr th {\n",
       "        vertical-align: top;\n",
       "    }\n",
       "\n",
       "    .dataframe thead th {\n",
       "        text-align: right;\n",
       "    }\n",
       "</style>\n",
       "<table border=\"1\" class=\"dataframe\">\n",
       "  <thead>\n",
       "    <tr style=\"text-align: right;\">\n",
       "      <th></th>\n",
       "      <th>business_status</th>\n",
       "      <th>geometry</th>\n",
       "      <th>icon</th>\n",
       "      <th>name</th>\n",
       "      <th>opening_hours</th>\n",
       "      <th>photos</th>\n",
       "      <th>place_id</th>\n",
       "      <th>plus_code</th>\n",
       "      <th>reference</th>\n",
       "      <th>scope</th>\n",
       "      <th>types</th>\n",
       "      <th>vicinity</th>\n",
       "      <th>rating</th>\n",
       "      <th>user_ratings_total</th>\n",
       "      <th>CBG</th>\n",
       "      <th>Radius</th>\n",
       "      <th>price_level</th>\n",
       "      <th>permanently_closed</th>\n",
       "    </tr>\n",
       "  </thead>\n",
       "  <tbody>\n",
       "    <tr>\n",
       "      <th>18428</th>\n",
       "      <td>OPERATIONAL</td>\n",
       "      <td>{'location': {'lat': 32.782596, 'lng': -96.794...</td>\n",
       "      <td>https://maps.gstatic.com/mapfiles/place_api/ic...</td>\n",
       "      <td>TRUE Kitchen + Kocktails</td>\n",
       "      <td>{'open_now': False}</td>\n",
       "      <td>[{'height': 3024, 'html_attributions': ['&lt;a hr...</td>\n",
       "      <td>ChIJE-rQvPWZToYRe0HhJuoEHNo</td>\n",
       "      <td>{'compound_code': 'Q6M4+24 Dallas, TX, USA', '...</td>\n",
       "      <td>ChIJE-rQvPWZToYRe0HhJuoEHNo</td>\n",
       "      <td>GOOGLE</td>\n",
       "      <td>[restaurant, food, point_of_interest, establis...</td>\n",
       "      <td>1933 Elm Street, Dallas</td>\n",
       "      <td>4.2</td>\n",
       "      <td>422.0</td>\n",
       "      <td>481130031011</td>\n",
       "      <td>387.864233</td>\n",
       "      <td>NaN</td>\n",
       "      <td>NaN</td>\n",
       "    </tr>\n",
       "    <tr>\n",
       "      <th>14046</th>\n",
       "      <td>OPERATIONAL</td>\n",
       "      <td>{'location': {'lat': 40.8551498, 'lng': -73.93...</td>\n",
       "      <td>https://maps.gstatic.com/mapfiles/place_api/ic...</td>\n",
       "      <td>Fort Tyron Grill</td>\n",
       "      <td>{'open_now': True}</td>\n",
       "      <td>[{'height': 4032, 'html_attributions': ['&lt;a hr...</td>\n",
       "      <td>ChIJ7S77paf2wokRCrjAy5h4GY4</td>\n",
       "      <td>{'compound_code': 'V346+3Q New York, NY, USA',...</td>\n",
       "      <td>ChIJ7S77paf2wokRCrjAy5h4GY4</td>\n",
       "      <td>GOOGLE</td>\n",
       "      <td>[restaurant, food, point_of_interest, establis...</td>\n",
       "      <td>210 Pinehurst Avenue, New York</td>\n",
       "      <td>4.8</td>\n",
       "      <td>9.0</td>\n",
       "      <td>360610275001</td>\n",
       "      <td>270.734001</td>\n",
       "      <td>NaN</td>\n",
       "      <td>NaN</td>\n",
       "    </tr>\n",
       "  </tbody>\n",
       "</table>\n",
       "</div>"
      ],
      "text/plain": [
       "      business_status                                           geometry  \\\n",
       "18428     OPERATIONAL  {'location': {'lat': 32.782596, 'lng': -96.794...   \n",
       "14046     OPERATIONAL  {'location': {'lat': 40.8551498, 'lng': -73.93...   \n",
       "\n",
       "                                                    icon  \\\n",
       "18428  https://maps.gstatic.com/mapfiles/place_api/ic...   \n",
       "14046  https://maps.gstatic.com/mapfiles/place_api/ic...   \n",
       "\n",
       "                           name        opening_hours  \\\n",
       "18428  TRUE Kitchen + Kocktails  {'open_now': False}   \n",
       "14046          Fort Tyron Grill   {'open_now': True}   \n",
       "\n",
       "                                                  photos  \\\n",
       "18428  [{'height': 3024, 'html_attributions': ['<a hr...   \n",
       "14046  [{'height': 4032, 'html_attributions': ['<a hr...   \n",
       "\n",
       "                          place_id  \\\n",
       "18428  ChIJE-rQvPWZToYRe0HhJuoEHNo   \n",
       "14046  ChIJ7S77paf2wokRCrjAy5h4GY4   \n",
       "\n",
       "                                               plus_code  \\\n",
       "18428  {'compound_code': 'Q6M4+24 Dallas, TX, USA', '...   \n",
       "14046  {'compound_code': 'V346+3Q New York, NY, USA',...   \n",
       "\n",
       "                         reference   scope  \\\n",
       "18428  ChIJE-rQvPWZToYRe0HhJuoEHNo  GOOGLE   \n",
       "14046  ChIJ7S77paf2wokRCrjAy5h4GY4  GOOGLE   \n",
       "\n",
       "                                                   types  \\\n",
       "18428  [restaurant, food, point_of_interest, establis...   \n",
       "14046  [restaurant, food, point_of_interest, establis...   \n",
       "\n",
       "                             vicinity  rating  user_ratings_total  \\\n",
       "18428         1933 Elm Street, Dallas     4.2               422.0   \n",
       "14046  210 Pinehurst Avenue, New York     4.8                 9.0   \n",
       "\n",
       "                CBG      Radius  price_level  permanently_closed  \n",
       "18428  481130031011  387.864233          NaN                 NaN  \n",
       "14046  360610275001  270.734001          NaN                 NaN  "
      ]
     },
     "execution_count": 204,
     "metadata": {},
     "output_type": "execute_result"
    }
   ],
   "source": [
    "df_rest = pd.read_parquet('../data/spark/restaurants/restaurants.parq')\n",
    "df_rest = df_rest.drop_duplicates(subset = ['place_id'], keep='first')\n",
    "df_rest.sample(2)"
   ]
  },
  {
   "cell_type": "markdown",
   "id": "divided-badge",
   "metadata": {},
   "source": [
    "rev_dpath = '../data/outputs/cbg_restaurants/'\n",
    "        \n",
    "rev_files = [rev_dpath+ f for f in os.listdir(rev_dpath)][:-1]\n",
    "df_rest = pd.DataFrame()\n",
    "for file in rev_files:\n",
    "    \n",
    "    df = pd.read_json(file)\n",
    "\n",
    "    df_rest = pd.concat((df_rest, df), ignore_index=True)\n",
    "df_rest.to_parquet('../data/spark/reviews/restaurants.parq')\n",
    "df_rest = df_rest.drop_duplicates(subset = ['place_id'], keep='first')\n"
   ]
  },
  {
   "cell_type": "code",
   "execution_count": 211,
   "id": "tribal-bulgaria",
   "metadata": {},
   "outputs": [
    {
     "data": {
      "text/html": [
       "<div>\n",
       "<style scoped>\n",
       "    .dataframe tbody tr th:only-of-type {\n",
       "        vertical-align: middle;\n",
       "    }\n",
       "\n",
       "    .dataframe tbody tr th {\n",
       "        vertical-align: top;\n",
       "    }\n",
       "\n",
       "    .dataframe thead th {\n",
       "        text-align: right;\n",
       "    }\n",
       "</style>\n",
       "<table border=\"1\" class=\"dataframe\">\n",
       "  <thead>\n",
       "    <tr style=\"text-align: right;\">\n",
       "      <th></th>\n",
       "      <th>id_review</th>\n",
       "      <th>caption</th>\n",
       "      <th>relative_date</th>\n",
       "      <th>retrieval_date</th>\n",
       "      <th>rating</th>\n",
       "      <th>username</th>\n",
       "      <th>n_review_user</th>\n",
       "      <th>n_photo_user</th>\n",
       "      <th>url_user</th>\n",
       "      <th>census_block_group</th>\n",
       "      <th>...</th>\n",
       "      <th>reference</th>\n",
       "      <th>scope</th>\n",
       "      <th>types</th>\n",
       "      <th>vicinity</th>\n",
       "      <th>rating_restaurant</th>\n",
       "      <th>user_ratings_total</th>\n",
       "      <th>CBG</th>\n",
       "      <th>Radius</th>\n",
       "      <th>price_level</th>\n",
       "      <th>permanently_closed</th>\n",
       "    </tr>\n",
       "  </thead>\n",
       "  <tbody>\n",
       "    <tr>\n",
       "      <th>11887</th>\n",
       "      <td>ChdDSUhNMG9nS0VJQ0FnSUNBdEtTT3d3RRAB</td>\n",
       "      <td>The worst of the worst.  I just called to orde...</td>\n",
       "      <td>3 years ago</td>\n",
       "      <td>2021-03-23</td>\n",
       "      <td>1</td>\n",
       "      <td>Anonymous Gaming Beserk</td>\n",
       "      <td>8</td>\n",
       "      <td>0</td>\n",
       "      <td>https://www.google.com/maps/contrib/1042255053...</td>\n",
       "      <td>110010018042</td>\n",
       "      <td>...</td>\n",
       "      <td>ChIJX3LLIWLIt4kR0PiUA756jPY</td>\n",
       "      <td>GOOGLE</td>\n",
       "      <td>[meal_delivery, restaurant, food, point_of_int...</td>\n",
       "      <td>6215 Georgia Avenue Northwest, Washington</td>\n",
       "      <td>3.5</td>\n",
       "      <td>48.0</td>\n",
       "      <td>110010018042</td>\n",
       "      <td>269.739270</td>\n",
       "      <td>1.0</td>\n",
       "      <td>NaN</td>\n",
       "    </tr>\n",
       "    <tr>\n",
       "      <th>159267</th>\n",
       "      <td>ChdDSUhNMG9nS0VJQ0FnSUN3MU9DaTBRRRAB</td>\n",
       "      <td>A great old world bakery with fine service</td>\n",
       "      <td>3 years ago</td>\n",
       "      <td>2021-03-25</td>\n",
       "      <td>4</td>\n",
       "      <td>Robert Russ</td>\n",
       "      <td>1</td>\n",
       "      <td>0</td>\n",
       "      <td>https://www.google.com/maps/contrib/1007573762...</td>\n",
       "      <td>120570048002</td>\n",
       "      <td>...</td>\n",
       "      <td>ChIJJ1tmaHbDwogRxB86-j_tUjw</td>\n",
       "      <td>GOOGLE</td>\n",
       "      <td>[bakery, restaurant, food, point_of_interest, ...</td>\n",
       "      <td>2909 West Cypress Street, Tampa</td>\n",
       "      <td>4.5</td>\n",
       "      <td>693.0</td>\n",
       "      <td>120570048002</td>\n",
       "      <td>380.283032</td>\n",
       "      <td>2.0</td>\n",
       "      <td>NaN</td>\n",
       "    </tr>\n",
       "  </tbody>\n",
       "</table>\n",
       "<p>2 rows × 28 columns</p>\n",
       "</div>"
      ],
      "text/plain": [
       "                                   id_review  \\\n",
       "11887   ChdDSUhNMG9nS0VJQ0FnSUNBdEtTT3d3RRAB   \n",
       "159267  ChdDSUhNMG9nS0VJQ0FnSUN3MU9DaTBRRRAB   \n",
       "\n",
       "                                                  caption relative_date  \\\n",
       "11887   The worst of the worst.  I just called to orde...   3 years ago   \n",
       "159267         A great old world bakery with fine service   3 years ago   \n",
       "\n",
       "       retrieval_date  rating                 username  n_review_user  \\\n",
       "11887      2021-03-23       1  Anonymous Gaming Beserk              8   \n",
       "159267     2021-03-25       4              Robert Russ              1   \n",
       "\n",
       "        n_photo_user                                           url_user  \\\n",
       "11887              0  https://www.google.com/maps/contrib/1042255053...   \n",
       "159267             0  https://www.google.com/maps/contrib/1007573762...   \n",
       "\n",
       "        census_block_group  ...                    reference   scope  \\\n",
       "11887         110010018042  ...  ChIJX3LLIWLIt4kR0PiUA756jPY  GOOGLE   \n",
       "159267        120570048002  ...  ChIJJ1tmaHbDwogRxB86-j_tUjw  GOOGLE   \n",
       "\n",
       "                                                    types  \\\n",
       "11887   [meal_delivery, restaurant, food, point_of_int...   \n",
       "159267  [bakery, restaurant, food, point_of_interest, ...   \n",
       "\n",
       "                                         vicinity rating_restaurant  \\\n",
       "11887   6215 Georgia Avenue Northwest, Washington               3.5   \n",
       "159267            2909 West Cypress Street, Tampa               4.5   \n",
       "\n",
       "       user_ratings_total           CBG      Radius price_level  \\\n",
       "11887                48.0  110010018042  269.739270         1.0   \n",
       "159267              693.0  120570048002  380.283032         2.0   \n",
       "\n",
       "       permanently_closed  \n",
       "11887                 NaN  \n",
       "159267                NaN  \n",
       "\n",
       "[2 rows x 28 columns]"
      ]
     },
     "execution_count": 211,
     "metadata": {},
     "output_type": "execute_result"
    }
   ],
   "source": [
    "df_merge = df_review.join(df_rest.set_index('place_id'), on='place_id', rsuffix= '_restaurant',how='inner')\n",
    "\n",
    "df_merge.sample(2)"
   ]
  },
  {
   "cell_type": "code",
   "execution_count": 212,
   "id": "generic-configuration",
   "metadata": {},
   "outputs": [],
   "source": [
    "def clean_merge(df):\n",
    "    df = df[df.caption.str.len() > 25]\n",
    "    df.caption = df.caption.replace('(Translated by Google)','')\n",
    "    df.caption = df.caption.replace('(Original)','')\n",
    "    return df"
   ]
  },
  {
   "cell_type": "code",
   "execution_count": 223,
   "id": "prescription-victory",
   "metadata": {},
   "outputs": [
    {
     "name": "stdout",
     "output_type": "stream",
     "text": [
      "22344784\n"
     ]
    },
    {
     "data": {
      "text/html": [
       "<div>\n",
       "<style scoped>\n",
       "    .dataframe tbody tr th:only-of-type {\n",
       "        vertical-align: middle;\n",
       "    }\n",
       "\n",
       "    .dataframe tbody tr th {\n",
       "        vertical-align: top;\n",
       "    }\n",
       "\n",
       "    .dataframe thead th {\n",
       "        text-align: right;\n",
       "    }\n",
       "</style>\n",
       "<table border=\"1\" class=\"dataframe\">\n",
       "  <thead>\n",
       "    <tr style=\"text-align: right;\">\n",
       "      <th></th>\n",
       "      <th>id_review</th>\n",
       "      <th>caption</th>\n",
       "      <th>relative_date</th>\n",
       "      <th>retrieval_date</th>\n",
       "      <th>rating</th>\n",
       "      <th>username</th>\n",
       "      <th>n_review_user</th>\n",
       "      <th>n_photo_user</th>\n",
       "      <th>url_user</th>\n",
       "      <th>census_block_group</th>\n",
       "      <th>...</th>\n",
       "      <th>reference</th>\n",
       "      <th>scope</th>\n",
       "      <th>types</th>\n",
       "      <th>vicinity</th>\n",
       "      <th>rating_restaurant</th>\n",
       "      <th>user_ratings_total</th>\n",
       "      <th>CBG</th>\n",
       "      <th>Radius</th>\n",
       "      <th>price_level</th>\n",
       "      <th>permanently_closed</th>\n",
       "    </tr>\n",
       "  </thead>\n",
       "  <tbody>\n",
       "    <tr>\n",
       "      <th>594830</th>\n",
       "      <td>ChZDSUhNMG9nS0VJQ0FnSUNVN2I2Z2J3EAE</td>\n",
       "      <td>Not the easiest place to get to by car but onc...</td>\n",
       "      <td>a year ago</td>\n",
       "      <td>2021-03-29</td>\n",
       "      <td>5</td>\n",
       "      <td>snathanm427</td>\n",
       "      <td>0</td>\n",
       "      <td>0</td>\n",
       "      <td>https://www.google.com/maps/contrib/1056949112...</td>\n",
       "      <td>220710135003</td>\n",
       "      <td>...</td>\n",
       "      <td>ChIJw-JSixGmIIYR0_4fo_kybQw</td>\n",
       "      <td>GOOGLE</td>\n",
       "      <td>[restaurant, food, point_of_interest, establis...</td>\n",
       "      <td>620 Chartres Street, New Orleans</td>\n",
       "      <td>4.7</td>\n",
       "      <td>614.0</td>\n",
       "      <td>220710135003</td>\n",
       "      <td>261.205763</td>\n",
       "      <td>4.0</td>\n",
       "      <td>NaN</td>\n",
       "    </tr>\n",
       "    <tr>\n",
       "      <th>529645</th>\n",
       "      <td>ChZDSUhNMG9nS0VJQ0FnSUNJNFp1ekJ3EAE</td>\n",
       "      <td>Tin roof is a fun chill bar in Indy that often...</td>\n",
       "      <td>2 years ago</td>\n",
       "      <td>2021-03-29</td>\n",
       "      <td>4</td>\n",
       "      <td>Shelby Shepherd</td>\n",
       "      <td>0</td>\n",
       "      <td>0</td>\n",
       "      <td>https://www.google.com/maps/contrib/1183720774...</td>\n",
       "      <td>180973910003</td>\n",
       "      <td>...</td>\n",
       "      <td>ChIJexEho71Qa4gRN_19ml4q-OE</td>\n",
       "      <td>GOOGLE</td>\n",
       "      <td>[bar, restaurant, food, point_of_interest, est...</td>\n",
       "      <td>36 South Pennsylvania Street, Indianapolis</td>\n",
       "      <td>4.0</td>\n",
       "      <td>768.0</td>\n",
       "      <td>180973910003</td>\n",
       "      <td>1009.458466</td>\n",
       "      <td>1.0</td>\n",
       "      <td>NaN</td>\n",
       "    </tr>\n",
       "  </tbody>\n",
       "</table>\n",
       "<p>2 rows × 28 columns</p>\n",
       "</div>"
      ],
      "text/plain": [
       "                                  id_review  \\\n",
       "594830  ChZDSUhNMG9nS0VJQ0FnSUNVN2I2Z2J3EAE   \n",
       "529645  ChZDSUhNMG9nS0VJQ0FnSUNJNFp1ekJ3EAE   \n",
       "\n",
       "                                                  caption relative_date  \\\n",
       "594830  Not the easiest place to get to by car but onc...    a year ago   \n",
       "529645  Tin roof is a fun chill bar in Indy that often...   2 years ago   \n",
       "\n",
       "       retrieval_date  rating         username  n_review_user  n_photo_user  \\\n",
       "594830     2021-03-29       5      snathanm427              0             0   \n",
       "529645     2021-03-29       4  Shelby Shepherd              0             0   \n",
       "\n",
       "                                                 url_user  census_block_group  \\\n",
       "594830  https://www.google.com/maps/contrib/1056949112...        220710135003   \n",
       "529645  https://www.google.com/maps/contrib/1183720774...        180973910003   \n",
       "\n",
       "        ...                    reference   scope  \\\n",
       "594830  ...  ChIJw-JSixGmIIYR0_4fo_kybQw  GOOGLE   \n",
       "529645  ...  ChIJexEho71Qa4gRN_19ml4q-OE  GOOGLE   \n",
       "\n",
       "                                                    types  \\\n",
       "594830  [restaurant, food, point_of_interest, establis...   \n",
       "529645  [bar, restaurant, food, point_of_interest, est...   \n",
       "\n",
       "                                          vicinity rating_restaurant  \\\n",
       "594830            620 Chartres Street, New Orleans               4.7   \n",
       "529645  36 South Pennsylvania Street, Indianapolis               4.0   \n",
       "\n",
       "       user_ratings_total           CBG       Radius price_level  \\\n",
       "594830              614.0  220710135003   261.205763         4.0   \n",
       "529645              768.0  180973910003  1009.458466         1.0   \n",
       "\n",
       "       permanently_closed  \n",
       "594830                NaN  \n",
       "529645                NaN  \n",
       "\n",
       "[2 rows x 28 columns]"
      ]
     },
     "execution_count": 223,
     "metadata": {},
     "output_type": "execute_result"
    }
   ],
   "source": [
    "df_merge_clean = clean_merge(df_merge)\n",
    "print(df_merge_clean.size)\n",
    "df_merge_clean.sample(2)"
   ]
  },
  {
   "cell_type": "code",
   "execution_count": 217,
   "id": "illegal-spectrum",
   "metadata": {},
   "outputs": [
    {
     "name": "stdout",
     "output_type": "stream",
     "text": [
      "20695220\n"
     ]
    }
   ],
   "source": [
    "# df_merge_clean = df_merge_clean[df_merge_clean['rating']!=3]\n",
    "# print(df_merge_clean.size)"
   ]
  },
  {
   "cell_type": "code",
   "execution_count": 224,
   "id": "pending-costume",
   "metadata": {},
   "outputs": [],
   "source": [
    "def sentiment(x):\n",
    "    if x<=3:\n",
    "        return 0\n",
    "    return 1"
   ]
  },
  {
   "cell_type": "code",
   "execution_count": 225,
   "id": "alert-electronics",
   "metadata": {},
   "outputs": [],
   "source": [
    "df_merge_clean['sentiment'] = df_merge_clean['rating'].apply(lambda x: sentiment(x))"
   ]
  },
  {
   "cell_type": "code",
   "execution_count": 228,
   "id": "grand-stuff",
   "metadata": {},
   "outputs": [
    {
     "data": {
      "text/plain": [
       "[]"
      ]
     },
     "execution_count": 228,
     "metadata": {},
     "output_type": "execute_result"
    }
   ],
   "source": [
    "tf.config.list_physical_devices('GPU')"
   ]
  },
  {
   "cell_type": "code",
   "execution_count": 226,
   "id": "rental-isolation",
   "metadata": {},
   "outputs": [
    {
     "data": {
      "text/plain": [
       "<AxesSubplot:>"
      ]
     },
     "execution_count": 226,
     "metadata": {},
     "output_type": "execute_result"
    },
    {
     "data": {
      "image/png": "[encoded data removed]",
      "text/plain": [
       "<Figure size 432x288 with 1 Axes>"
      ]
     },
     "metadata": {
      "needs_background": "light"
     },
     "output_type": "display_data"
    }
   ],
   "source": [
    "df_merge_clean['sentiment'].hist()"
   ]
  },
  {
   "cell_type": "code",
   "execution_count": 132,
   "id": "overall-ecuador",
   "metadata": {},
   "outputs": [
    {
     "name": "stdout",
     "output_type": "stream",
     "text": [
      "+--------------------+------+\n",
      "|             caption|rating|\n",
      "+--------------------+------+\n",
      "|One of my new fav...|     5|\n",
      "|I got the Peanut ...|     5|\n",
      "|Love this place! ...|     5|\n",
      "|Everything is Ama...|     5|\n",
      "|The bacon, egg, a...|     5|\n",
      "|We really like th...|     5|\n",
      "|Quick service, ta...|     5|\n",
      "|Best BBQ...even b...|     5|\n",
      "|So nice the break...|     5|\n",
      "|Best place for br...|     5|\n",
      "+--------------------+------+\n",
      "only showing top 10 rows\n",
      "\n"
     ]
    }
   ],
   "source": [
    "from pyspark.sql.functions import regexp_replace, col\n",
    "\n",
    "trainDataset = spark.read.option(\"header\", True).parquet('../data/spark/reviews/test.parq').select(col(\"caption\"),col(\"rating\"))\n",
    "trainDataset = trainDataset.withColumn(\"caption\", regexp_replace((\"caption\"), \"(Translated by Google)\", \"\"))\n",
    "df = trainDataset.repartition(1)\n",
    "trainDataset.show(10)\n",
    "df_filtered=df.filter(df.caption !='')\n",
    "df_filtered = df_filtered.withColumn(\"rating\", col(\"rating\").cast(\"string\"))"
   ]
  },
  {
   "cell_type": "code",
   "execution_count": 133,
   "id": "infectious-tenant",
   "metadata": {},
   "outputs": [
    {
     "name": "stdout",
     "output_type": "stream",
     "text": [
      "+------+------+\n",
      "|rating| count|\n",
      "+------+------+\n",
      "|   5.0|232193|\n",
      "|   4.0| 65204|\n",
      "|   1.0| 30619|\n",
      "|   3.0| 26711|\n",
      "|   2.0| 14869|\n",
      "+------+------+\n",
      "\n"
     ]
    }
   ],
   "source": [
    "\n",
    "df_filtered.groupBy(\"rating\") \\\n",
    "    .count() \\\n",
    "    .orderBy(col(\"count\").desc()) \\\n",
    "    .show()"
   ]
  },
  {
   "cell_type": "code",
   "execution_count": 135,
   "id": "voluntary-composition",
   "metadata": {},
   "outputs": [
    {
     "name": "stdout",
     "output_type": "stream",
     "text": [
      "+--------------------+------+\n",
      "|             caption|rating|\n",
      "+--------------------+------+\n",
      "|         ! AMAZING!!|   5.0|\n",
      "|! Best BBQ in the...|   5.0|\n",
      "|\"#MUCH_LOVE_AND_M...|   4.0|\n",
      "|\"A 3rd Place wher...|   5.0|\n",
      "|\"A must have when...|   5.0|\n",
      "|\"Amazing food, gr...|   5.0|\n",
      "|\"Best meal,  expe...|   5.0|\n",
      "|\"Best place to ea...|   5.0|\n",
      "|\"Best wings in th...|   5.0|\n",
      "|\"Big easy\" noodle...|   5.0|\n",
      "+--------------------+------+\n",
      "only showing top 10 rows\n",
      "\n"
     ]
    }
   ],
   "source": [
    "train_df, test_df = df_filtered.randomSplit([0.8,0.2],42)\n",
    "train_df.show(10)"
   ]
  },
  {
   "cell_type": "code",
   "execution_count": 143,
   "id": "graduate-mongolia",
   "metadata": {},
   "outputs": [
    {
     "name": "stdout",
     "output_type": "stream",
     "text": [
      "tfhub_use download started this may take some time.\n",
      "Approximate size to download 923.7 MB\n",
      "[OK!]\n"
     ]
    },
    {
     "ename": "IllegalArgumentException",
     "evalue": "requirement failed: Was not found appropriate resource to download for request: ResourceRequest(tfhub_use,Some(en),public/models,3.0.0,3.1.1) with downloader: com.johnsnowlabs.nlp.pretrained.S3ResourceDownloader@6956083c",
     "output_type": "error",
     "traceback": [
      "\u001b[1;31m---------------------------------------------------------------------------\u001b[0m",
      "\u001b[1;31mIllegalArgumentException\u001b[0m                  Traceback (most recent call last)",
      "\u001b[1;32m<ipython-input-143-94643b74607a>\u001b[0m in \u001b[0;36m<module>\u001b[1;34m\u001b[0m\n\u001b[0;32m      9\u001b[0m \u001b[1;31m# downloading pretrained embeddings\u001b[0m\u001b[1;33m\u001b[0m\u001b[1;33m\u001b[0m\u001b[1;33m\u001b[0m\u001b[0m\n\u001b[0;32m     10\u001b[0m \u001b[1;33m\u001b[0m\u001b[0m\n\u001b[1;32m---> 11\u001b[1;33m \u001b[0membeddings\u001b[0m \u001b[1;33m=\u001b[0m \u001b[0mUniversalSentenceEncoder\u001b[0m\u001b[1;33m.\u001b[0m\u001b[0mpretrained\u001b[0m\u001b[1;33m(\u001b[0m\u001b[1;34m'tfhub_use'\u001b[0m\u001b[1;33m,\u001b[0m \u001b[0mlang\u001b[0m\u001b[1;33m=\u001b[0m\u001b[1;34m\"en\"\u001b[0m\u001b[1;33m)\u001b[0m\u001b[0;31m \u001b[0m\u001b[0;31m\\\u001b[0m\u001b[1;33m\u001b[0m\u001b[1;33m\u001b[0m\u001b[0m\n\u001b[0m\u001b[0;32m     12\u001b[0m     \u001b[1;33m.\u001b[0m\u001b[0msetInputCols\u001b[0m\u001b[1;33m(\u001b[0m\u001b[1;33m[\u001b[0m\u001b[1;34m\"document\"\u001b[0m\u001b[1;33m]\u001b[0m\u001b[1;33m)\u001b[0m\u001b[0;31m\\\u001b[0m\u001b[1;33m\u001b[0m\u001b[1;33m\u001b[0m\u001b[0m\n\u001b[0;32m     13\u001b[0m     \u001b[1;33m.\u001b[0m\u001b[0msetOutputCol\u001b[0m\u001b[1;33m(\u001b[0m\u001b[1;34m\"sentence_embeddings\"\u001b[0m\u001b[1;33m)\u001b[0m\u001b[1;33m\u001b[0m\u001b[1;33m\u001b[0m\u001b[0m\n",
      "\u001b[1;32mc:\\users\\swami\\anaconda3\\envs\\spark_env\\lib\\site-packages\\sparknlp\\annotator.py\u001b[0m in \u001b[0;36mpretrained\u001b[1;34m(name, lang, remote_loc)\u001b[0m\n\u001b[0;32m   2183\u001b[0m     \u001b[1;32mdef\u001b[0m \u001b[0mpretrained\u001b[0m\u001b[1;33m(\u001b[0m\u001b[0mname\u001b[0m\u001b[1;33m=\u001b[0m\u001b[1;34m\"tfhub_use\"\u001b[0m\u001b[1;33m,\u001b[0m \u001b[0mlang\u001b[0m\u001b[1;33m=\u001b[0m\u001b[1;34m\"en\"\u001b[0m\u001b[1;33m,\u001b[0m \u001b[0mremote_loc\u001b[0m\u001b[1;33m=\u001b[0m\u001b[1;32mNone\u001b[0m\u001b[1;33m)\u001b[0m\u001b[1;33m:\u001b[0m\u001b[1;33m\u001b[0m\u001b[1;33m\u001b[0m\u001b[0m\n\u001b[0;32m   2184\u001b[0m         \u001b[1;32mfrom\u001b[0m \u001b[0msparknlp\u001b[0m\u001b[1;33m.\u001b[0m\u001b[0mpretrained\u001b[0m \u001b[1;32mimport\u001b[0m \u001b[0mResourceDownloader\u001b[0m\u001b[1;33m\u001b[0m\u001b[1;33m\u001b[0m\u001b[0m\n\u001b[1;32m-> 2185\u001b[1;33m         \u001b[1;32mreturn\u001b[0m \u001b[0mResourceDownloader\u001b[0m\u001b[1;33m.\u001b[0m\u001b[0mdownloadModel\u001b[0m\u001b[1;33m(\u001b[0m\u001b[0mUniversalSentenceEncoder\u001b[0m\u001b[1;33m,\u001b[0m \u001b[0mname\u001b[0m\u001b[1;33m,\u001b[0m \u001b[0mlang\u001b[0m\u001b[1;33m,\u001b[0m \u001b[0mremote_loc\u001b[0m\u001b[1;33m)\u001b[0m\u001b[1;33m\u001b[0m\u001b[1;33m\u001b[0m\u001b[0m\n\u001b[0m\u001b[0;32m   2186\u001b[0m \u001b[1;33m\u001b[0m\u001b[0m\n\u001b[0;32m   2187\u001b[0m \u001b[1;33m\u001b[0m\u001b[0m\n",
      "\u001b[1;32mc:\\users\\swami\\anaconda3\\envs\\spark_env\\lib\\site-packages\\sparknlp\\pretrained.py\u001b[0m in \u001b[0;36mdownloadModel\u001b[1;34m(reader, name, language, remote_loc, j_dwn)\u001b[0m\n\u001b[0;32m     39\u001b[0m             \u001b[0mt1\u001b[0m\u001b[1;33m.\u001b[0m\u001b[0mstart\u001b[0m\u001b[1;33m(\u001b[0m\u001b[1;33m)\u001b[0m\u001b[1;33m\u001b[0m\u001b[1;33m\u001b[0m\u001b[0m\n\u001b[0;32m     40\u001b[0m             \u001b[1;32mtry\u001b[0m\u001b[1;33m:\u001b[0m\u001b[1;33m\u001b[0m\u001b[1;33m\u001b[0m\u001b[0m\n\u001b[1;32m---> 41\u001b[1;33m                 \u001b[0mj_obj\u001b[0m \u001b[1;33m=\u001b[0m \u001b[0m_internal\u001b[0m\u001b[1;33m.\u001b[0m\u001b[0m_DownloadModel\u001b[0m\u001b[1;33m(\u001b[0m\u001b[0mreader\u001b[0m\u001b[1;33m.\u001b[0m\u001b[0mname\u001b[0m\u001b[1;33m,\u001b[0m \u001b[0mname\u001b[0m\u001b[1;33m,\u001b[0m \u001b[0mlanguage\u001b[0m\u001b[1;33m,\u001b[0m \u001b[0mremote_loc\u001b[0m\u001b[1;33m,\u001b[0m \u001b[0mj_dwn\u001b[0m\u001b[1;33m)\u001b[0m\u001b[1;33m.\u001b[0m\u001b[0mapply\u001b[0m\u001b[1;33m(\u001b[0m\u001b[1;33m)\u001b[0m\u001b[1;33m\u001b[0m\u001b[1;33m\u001b[0m\u001b[0m\n\u001b[0m\u001b[0;32m     42\u001b[0m             \u001b[1;32mfinally\u001b[0m\u001b[1;33m:\u001b[0m\u001b[1;33m\u001b[0m\u001b[1;33m\u001b[0m\u001b[0m\n\u001b[0;32m     43\u001b[0m                 \u001b[0mstop_threads\u001b[0m \u001b[1;33m=\u001b[0m \u001b[1;32mTrue\u001b[0m\u001b[1;33m\u001b[0m\u001b[1;33m\u001b[0m\u001b[0m\n",
      "\u001b[1;32mc:\\users\\swami\\anaconda3\\envs\\spark_env\\lib\\site-packages\\sparknlp\\internal.py\u001b[0m in \u001b[0;36m__init__\u001b[1;34m(self, reader, name, language, remote_loc, validator)\u001b[0m\n\u001b[0;32m    174\u001b[0m \u001b[1;32mclass\u001b[0m \u001b[0m_DownloadModel\u001b[0m\u001b[1;33m(\u001b[0m\u001b[0mExtendedJavaWrapper\u001b[0m\u001b[1;33m)\u001b[0m\u001b[1;33m:\u001b[0m\u001b[1;33m\u001b[0m\u001b[1;33m\u001b[0m\u001b[0m\n\u001b[0;32m    175\u001b[0m     \u001b[1;32mdef\u001b[0m \u001b[0m__init__\u001b[0m\u001b[1;33m(\u001b[0m\u001b[0mself\u001b[0m\u001b[1;33m,\u001b[0m \u001b[0mreader\u001b[0m\u001b[1;33m,\u001b[0m \u001b[0mname\u001b[0m\u001b[1;33m,\u001b[0m \u001b[0mlanguage\u001b[0m\u001b[1;33m,\u001b[0m \u001b[0mremote_loc\u001b[0m\u001b[1;33m,\u001b[0m \u001b[0mvalidator\u001b[0m\u001b[1;33m)\u001b[0m\u001b[1;33m:\u001b[0m\u001b[1;33m\u001b[0m\u001b[1;33m\u001b[0m\u001b[0m\n\u001b[1;32m--> 176\u001b[1;33m         \u001b[0msuper\u001b[0m\u001b[1;33m(\u001b[0m\u001b[0m_DownloadModel\u001b[0m\u001b[1;33m,\u001b[0m \u001b[0mself\u001b[0m\u001b[1;33m)\u001b[0m\u001b[1;33m.\u001b[0m\u001b[0m__init__\u001b[0m\u001b[1;33m(\u001b[0m\u001b[1;34m\"com.johnsnowlabs.nlp.pretrained.\"\u001b[0m\u001b[1;33m+\u001b[0m\u001b[0mvalidator\u001b[0m\u001b[1;33m+\u001b[0m\u001b[1;34m\".downloadModel\"\u001b[0m\u001b[1;33m,\u001b[0m \u001b[0mreader\u001b[0m\u001b[1;33m,\u001b[0m \u001b[0mname\u001b[0m\u001b[1;33m,\u001b[0m \u001b[0mlanguage\u001b[0m\u001b[1;33m,\u001b[0m \u001b[0mremote_loc\u001b[0m\u001b[1;33m)\u001b[0m\u001b[1;33m\u001b[0m\u001b[1;33m\u001b[0m\u001b[0m\n\u001b[0m\u001b[0;32m    177\u001b[0m \u001b[1;33m\u001b[0m\u001b[0m\n\u001b[0;32m    178\u001b[0m \u001b[1;33m\u001b[0m\u001b[0m\n",
      "\u001b[1;32mc:\\users\\swami\\anaconda3\\envs\\spark_env\\lib\\site-packages\\sparknlp\\internal.py\u001b[0m in \u001b[0;36m__init__\u001b[1;34m(self, java_obj, *args)\u001b[0m\n\u001b[0;32m    127\u001b[0m         \u001b[0msuper\u001b[0m\u001b[1;33m(\u001b[0m\u001b[0mExtendedJavaWrapper\u001b[0m\u001b[1;33m,\u001b[0m \u001b[0mself\u001b[0m\u001b[1;33m)\u001b[0m\u001b[1;33m.\u001b[0m\u001b[0m__init__\u001b[0m\u001b[1;33m(\u001b[0m\u001b[0mjava_obj\u001b[0m\u001b[1;33m)\u001b[0m\u001b[1;33m\u001b[0m\u001b[1;33m\u001b[0m\u001b[0m\n\u001b[0;32m    128\u001b[0m         \u001b[0mself\u001b[0m\u001b[1;33m.\u001b[0m\u001b[0msc\u001b[0m \u001b[1;33m=\u001b[0m \u001b[0mSparkContext\u001b[0m\u001b[1;33m.\u001b[0m\u001b[0m_active_spark_context\u001b[0m\u001b[1;33m\u001b[0m\u001b[1;33m\u001b[0m\u001b[0m\n\u001b[1;32m--> 129\u001b[1;33m         \u001b[0mself\u001b[0m\u001b[1;33m.\u001b[0m\u001b[0m_java_obj\u001b[0m \u001b[1;33m=\u001b[0m \u001b[0mself\u001b[0m\u001b[1;33m.\u001b[0m\u001b[0mnew_java_obj\u001b[0m\u001b[1;33m(\u001b[0m\u001b[0mjava_obj\u001b[0m\u001b[1;33m,\u001b[0m \u001b[1;33m*\u001b[0m\u001b[0margs\u001b[0m\u001b[1;33m)\u001b[0m\u001b[1;33m\u001b[0m\u001b[1;33m\u001b[0m\u001b[0m\n\u001b[0m\u001b[0;32m    130\u001b[0m         \u001b[0mself\u001b[0m\u001b[1;33m.\u001b[0m\u001b[0mjava_obj\u001b[0m \u001b[1;33m=\u001b[0m \u001b[0mself\u001b[0m\u001b[1;33m.\u001b[0m\u001b[0m_java_obj\u001b[0m\u001b[1;33m\u001b[0m\u001b[1;33m\u001b[0m\u001b[0m\n\u001b[0;32m    131\u001b[0m \u001b[1;33m\u001b[0m\u001b[0m\n",
      "\u001b[1;32mc:\\users\\swami\\anaconda3\\envs\\spark_env\\lib\\site-packages\\sparknlp\\internal.py\u001b[0m in \u001b[0;36mnew_java_obj\u001b[1;34m(self, java_class, *args)\u001b[0m\n\u001b[0;32m    137\u001b[0m \u001b[1;33m\u001b[0m\u001b[0m\n\u001b[0;32m    138\u001b[0m     \u001b[1;32mdef\u001b[0m \u001b[0mnew_java_obj\u001b[0m\u001b[1;33m(\u001b[0m\u001b[0mself\u001b[0m\u001b[1;33m,\u001b[0m \u001b[0mjava_class\u001b[0m\u001b[1;33m,\u001b[0m \u001b[1;33m*\u001b[0m\u001b[0margs\u001b[0m\u001b[1;33m)\u001b[0m\u001b[1;33m:\u001b[0m\u001b[1;33m\u001b[0m\u001b[1;33m\u001b[0m\u001b[0m\n\u001b[1;32m--> 139\u001b[1;33m         \u001b[1;32mreturn\u001b[0m \u001b[0mself\u001b[0m\u001b[1;33m.\u001b[0m\u001b[0m_new_java_obj\u001b[0m\u001b[1;33m(\u001b[0m\u001b[0mjava_class\u001b[0m\u001b[1;33m,\u001b[0m \u001b[1;33m*\u001b[0m\u001b[0margs\u001b[0m\u001b[1;33m)\u001b[0m\u001b[1;33m\u001b[0m\u001b[1;33m\u001b[0m\u001b[0m\n\u001b[0m\u001b[0;32m    140\u001b[0m \u001b[1;33m\u001b[0m\u001b[0m\n\u001b[0;32m    141\u001b[0m     \u001b[1;32mdef\u001b[0m \u001b[0mnew_java_array\u001b[0m\u001b[1;33m(\u001b[0m\u001b[0mself\u001b[0m\u001b[1;33m,\u001b[0m \u001b[0mpylist\u001b[0m\u001b[1;33m,\u001b[0m \u001b[0mjava_class\u001b[0m\u001b[1;33m)\u001b[0m\u001b[1;33m:\u001b[0m\u001b[1;33m\u001b[0m\u001b[1;33m\u001b[0m\u001b[0m\n",
      "\u001b[1;32mc:\\users\\swami\\anaconda3\\envs\\spark_env\\lib\\site-packages\\pyspark\\ml\\wrapper.py\u001b[0m in \u001b[0;36m_new_java_obj\u001b[1;34m(java_class, *args)\u001b[0m\n\u001b[0;32m     64\u001b[0m             \u001b[0mjava_obj\u001b[0m \u001b[1;33m=\u001b[0m \u001b[0mgetattr\u001b[0m\u001b[1;33m(\u001b[0m\u001b[0mjava_obj\u001b[0m\u001b[1;33m,\u001b[0m \u001b[0mname\u001b[0m\u001b[1;33m)\u001b[0m\u001b[1;33m\u001b[0m\u001b[1;33m\u001b[0m\u001b[0m\n\u001b[0;32m     65\u001b[0m         \u001b[0mjava_args\u001b[0m \u001b[1;33m=\u001b[0m \u001b[1;33m[\u001b[0m\u001b[0m_py2java\u001b[0m\u001b[1;33m(\u001b[0m\u001b[0msc\u001b[0m\u001b[1;33m,\u001b[0m \u001b[0marg\u001b[0m\u001b[1;33m)\u001b[0m \u001b[1;32mfor\u001b[0m \u001b[0marg\u001b[0m \u001b[1;32min\u001b[0m \u001b[0margs\u001b[0m\u001b[1;33m]\u001b[0m\u001b[1;33m\u001b[0m\u001b[1;33m\u001b[0m\u001b[0m\n\u001b[1;32m---> 66\u001b[1;33m         \u001b[1;32mreturn\u001b[0m \u001b[0mjava_obj\u001b[0m\u001b[1;33m(\u001b[0m\u001b[1;33m*\u001b[0m\u001b[0mjava_args\u001b[0m\u001b[1;33m)\u001b[0m\u001b[1;33m\u001b[0m\u001b[1;33m\u001b[0m\u001b[0m\n\u001b[0m\u001b[0;32m     67\u001b[0m \u001b[1;33m\u001b[0m\u001b[0m\n\u001b[0;32m     68\u001b[0m     \u001b[1;33m@\u001b[0m\u001b[0mstaticmethod\u001b[0m\u001b[1;33m\u001b[0m\u001b[1;33m\u001b[0m\u001b[0m\n",
      "\u001b[1;32mc:\\users\\swami\\anaconda3\\envs\\spark_env\\lib\\site-packages\\py4j\\java_gateway.py\u001b[0m in \u001b[0;36m__call__\u001b[1;34m(self, *args)\u001b[0m\n\u001b[0;32m   1303\u001b[0m         \u001b[0manswer\u001b[0m \u001b[1;33m=\u001b[0m \u001b[0mself\u001b[0m\u001b[1;33m.\u001b[0m\u001b[0mgateway_client\u001b[0m\u001b[1;33m.\u001b[0m\u001b[0msend_command\u001b[0m\u001b[1;33m(\u001b[0m\u001b[0mcommand\u001b[0m\u001b[1;33m)\u001b[0m\u001b[1;33m\u001b[0m\u001b[1;33m\u001b[0m\u001b[0m\n\u001b[0;32m   1304\u001b[0m         return_value = get_return_value(\n\u001b[1;32m-> 1305\u001b[1;33m             answer, self.gateway_client, self.target_id, self.name)\n\u001b[0m\u001b[0;32m   1306\u001b[0m \u001b[1;33m\u001b[0m\u001b[0m\n\u001b[0;32m   1307\u001b[0m         \u001b[1;32mfor\u001b[0m \u001b[0mtemp_arg\u001b[0m \u001b[1;32min\u001b[0m \u001b[0mtemp_args\u001b[0m\u001b[1;33m:\u001b[0m\u001b[1;33m\u001b[0m\u001b[1;33m\u001b[0m\u001b[0m\n",
      "\u001b[1;32mc:\\users\\swami\\anaconda3\\envs\\spark_env\\lib\\site-packages\\pyspark\\sql\\utils.py\u001b[0m in \u001b[0;36mdeco\u001b[1;34m(*a, **kw)\u001b[0m\n\u001b[0;32m    115\u001b[0m                 \u001b[1;31m# Hide where the exception came from that shows a non-Pythonic\u001b[0m\u001b[1;33m\u001b[0m\u001b[1;33m\u001b[0m\u001b[1;33m\u001b[0m\u001b[0m\n\u001b[0;32m    116\u001b[0m                 \u001b[1;31m# JVM exception message.\u001b[0m\u001b[1;33m\u001b[0m\u001b[1;33m\u001b[0m\u001b[1;33m\u001b[0m\u001b[0m\n\u001b[1;32m--> 117\u001b[1;33m                 \u001b[1;32mraise\u001b[0m \u001b[0mconverted\u001b[0m \u001b[1;32mfrom\u001b[0m \u001b[1;32mNone\u001b[0m\u001b[1;33m\u001b[0m\u001b[1;33m\u001b[0m\u001b[0m\n\u001b[0m\u001b[0;32m    118\u001b[0m             \u001b[1;32melse\u001b[0m\u001b[1;33m:\u001b[0m\u001b[1;33m\u001b[0m\u001b[1;33m\u001b[0m\u001b[0m\n\u001b[0;32m    119\u001b[0m                 \u001b[1;32mraise\u001b[0m\u001b[1;33m\u001b[0m\u001b[1;33m\u001b[0m\u001b[0m\n",
      "\u001b[1;31mIllegalArgumentException\u001b[0m: requirement failed: Was not found appropriate resource to download for request: ResourceRequest(tfhub_use,Some(en),public/models,3.0.0,3.1.1) with downloader: com.johnsnowlabs.nlp.pretrained.S3ResourceDownloader@6956083c"
     ]
    }
   ],
   "source": [
    "import pyspark.sql.types\n",
    "\n",
    "document = DocumentAssembler()\\\n",
    "    .setInputCol(\"caption\")\\\n",
    "    .setOutputCol(\"document\")\n",
    "\n",
    "# we can also use sentence detector here \n",
    "# if we want to train on and get predictions for each sentence\n",
    "# downloading pretrained embeddings\n",
    "\n",
    "embeddings = UniversalSentenceEncoder.pretrained('tfhub_use', lang=\"en\") \\\n",
    "    .setInputCols([\"document\"])\\\n",
    "    .setOutputCol(\"sentence_embeddings\")\n",
    "classsifierdl = ClassifierDLApproach()\\\n",
    "  .setInputCols([\"sentence_embeddings\"])\\\n",
    "  .setOutputCol(\"class\")\\\n",
    "  .setLabelColumn(\"rating\")\\\n",
    "  .setMaxEpochs(5)\\\n",
    "  .setEnableOutputLogs(True)\n",
    "use_clf_pipeline = Pipeline(\n",
    "    stages = [\n",
    "        document,\n",
    "        embeddings,\n",
    "        classsifierdl\n",
    "    ])"
   ]
  },
  {
   "cell_type": "code",
   "execution_count": 142,
   "id": "concrete-dependence",
   "metadata": {},
   "outputs": [
    {
     "ename": "IllegalArgumentException",
     "evalue": "requirement failed: Wrong or missing inputCols annotators in SentenceEmbeddings_2b0176c4facf.\n\nCurrent inputCols: document. Dataset's columns:\n(column_name=caption,is_nlp_annotator=false)\n(column_name=rating,is_nlp_annotator=false)\n(column_name=document,is_nlp_annotator=true,type=document).\nMake sure such annotators exist in your pipeline, with the right output names and that they have following annotator types: document, word_embeddings",
     "output_type": "error",
     "traceback": [
      "\u001b[1;31m---------------------------------------------------------------------------\u001b[0m",
      "\u001b[1;31mIllegalArgumentException\u001b[0m                  Traceback (most recent call last)",
      "\u001b[1;32m<ipython-input-142-4519bc67b0c7>\u001b[0m in \u001b[0;36m<module>\u001b[1;34m\u001b[0m\n\u001b[1;32m----> 1\u001b[1;33m \u001b[0muse_pipelineModel\u001b[0m \u001b[1;33m=\u001b[0m \u001b[0muse_clf_pipeline\u001b[0m\u001b[1;33m.\u001b[0m\u001b[0mfit\u001b[0m\u001b[1;33m(\u001b[0m\u001b[0mdf_filtered\u001b[0m\u001b[1;33m)\u001b[0m\u001b[1;33m\u001b[0m\u001b[1;33m\u001b[0m\u001b[0m\n\u001b[0m",
      "\u001b[1;32mc:\\users\\swami\\anaconda3\\envs\\spark_env\\lib\\site-packages\\pyspark\\ml\\base.py\u001b[0m in \u001b[0;36mfit\u001b[1;34m(self, dataset, params)\u001b[0m\n\u001b[0;32m    159\u001b[0m                 \u001b[1;32mreturn\u001b[0m \u001b[0mself\u001b[0m\u001b[1;33m.\u001b[0m\u001b[0mcopy\u001b[0m\u001b[1;33m(\u001b[0m\u001b[0mparams\u001b[0m\u001b[1;33m)\u001b[0m\u001b[1;33m.\u001b[0m\u001b[0m_fit\u001b[0m\u001b[1;33m(\u001b[0m\u001b[0mdataset\u001b[0m\u001b[1;33m)\u001b[0m\u001b[1;33m\u001b[0m\u001b[1;33m\u001b[0m\u001b[0m\n\u001b[0;32m    160\u001b[0m             \u001b[1;32melse\u001b[0m\u001b[1;33m:\u001b[0m\u001b[1;33m\u001b[0m\u001b[1;33m\u001b[0m\u001b[0m\n\u001b[1;32m--> 161\u001b[1;33m                 \u001b[1;32mreturn\u001b[0m \u001b[0mself\u001b[0m\u001b[1;33m.\u001b[0m\u001b[0m_fit\u001b[0m\u001b[1;33m(\u001b[0m\u001b[0mdataset\u001b[0m\u001b[1;33m)\u001b[0m\u001b[1;33m\u001b[0m\u001b[1;33m\u001b[0m\u001b[0m\n\u001b[0m\u001b[0;32m    162\u001b[0m         \u001b[1;32melse\u001b[0m\u001b[1;33m:\u001b[0m\u001b[1;33m\u001b[0m\u001b[1;33m\u001b[0m\u001b[0m\n\u001b[0;32m    163\u001b[0m             raise ValueError(\"Params must be either a param map or a list/tuple of param maps, \"\n",
      "\u001b[1;32mc:\\users\\swami\\anaconda3\\envs\\spark_env\\lib\\site-packages\\pyspark\\ml\\pipeline.py\u001b[0m in \u001b[0;36m_fit\u001b[1;34m(self, dataset)\u001b[0m\n\u001b[0;32m    110\u001b[0m                 \u001b[1;32mif\u001b[0m \u001b[0misinstance\u001b[0m\u001b[1;33m(\u001b[0m\u001b[0mstage\u001b[0m\u001b[1;33m,\u001b[0m \u001b[0mTransformer\u001b[0m\u001b[1;33m)\u001b[0m\u001b[1;33m:\u001b[0m\u001b[1;33m\u001b[0m\u001b[1;33m\u001b[0m\u001b[0m\n\u001b[0;32m    111\u001b[0m                     \u001b[0mtransformers\u001b[0m\u001b[1;33m.\u001b[0m\u001b[0mappend\u001b[0m\u001b[1;33m(\u001b[0m\u001b[0mstage\u001b[0m\u001b[1;33m)\u001b[0m\u001b[1;33m\u001b[0m\u001b[1;33m\u001b[0m\u001b[0m\n\u001b[1;32m--> 112\u001b[1;33m                     \u001b[0mdataset\u001b[0m \u001b[1;33m=\u001b[0m \u001b[0mstage\u001b[0m\u001b[1;33m.\u001b[0m\u001b[0mtransform\u001b[0m\u001b[1;33m(\u001b[0m\u001b[0mdataset\u001b[0m\u001b[1;33m)\u001b[0m\u001b[1;33m\u001b[0m\u001b[1;33m\u001b[0m\u001b[0m\n\u001b[0m\u001b[0;32m    113\u001b[0m                 \u001b[1;32melse\u001b[0m\u001b[1;33m:\u001b[0m  \u001b[1;31m# must be an Estimator\u001b[0m\u001b[1;33m\u001b[0m\u001b[1;33m\u001b[0m\u001b[0m\n\u001b[0;32m    114\u001b[0m                     \u001b[0mmodel\u001b[0m \u001b[1;33m=\u001b[0m \u001b[0mstage\u001b[0m\u001b[1;33m.\u001b[0m\u001b[0mfit\u001b[0m\u001b[1;33m(\u001b[0m\u001b[0mdataset\u001b[0m\u001b[1;33m)\u001b[0m\u001b[1;33m\u001b[0m\u001b[1;33m\u001b[0m\u001b[0m\n",
      "\u001b[1;32mc:\\users\\swami\\anaconda3\\envs\\spark_env\\lib\\site-packages\\pyspark\\ml\\base.py\u001b[0m in \u001b[0;36mtransform\u001b[1;34m(self, dataset, params)\u001b[0m\n\u001b[0;32m    215\u001b[0m                 \u001b[1;32mreturn\u001b[0m \u001b[0mself\u001b[0m\u001b[1;33m.\u001b[0m\u001b[0mcopy\u001b[0m\u001b[1;33m(\u001b[0m\u001b[0mparams\u001b[0m\u001b[1;33m)\u001b[0m\u001b[1;33m.\u001b[0m\u001b[0m_transform\u001b[0m\u001b[1;33m(\u001b[0m\u001b[0mdataset\u001b[0m\u001b[1;33m)\u001b[0m\u001b[1;33m\u001b[0m\u001b[1;33m\u001b[0m\u001b[0m\n\u001b[0;32m    216\u001b[0m             \u001b[1;32melse\u001b[0m\u001b[1;33m:\u001b[0m\u001b[1;33m\u001b[0m\u001b[1;33m\u001b[0m\u001b[0m\n\u001b[1;32m--> 217\u001b[1;33m                 \u001b[1;32mreturn\u001b[0m \u001b[0mself\u001b[0m\u001b[1;33m.\u001b[0m\u001b[0m_transform\u001b[0m\u001b[1;33m(\u001b[0m\u001b[0mdataset\u001b[0m\u001b[1;33m)\u001b[0m\u001b[1;33m\u001b[0m\u001b[1;33m\u001b[0m\u001b[0m\n\u001b[0m\u001b[0;32m    218\u001b[0m         \u001b[1;32melse\u001b[0m\u001b[1;33m:\u001b[0m\u001b[1;33m\u001b[0m\u001b[1;33m\u001b[0m\u001b[0m\n\u001b[0;32m    219\u001b[0m             \u001b[1;32mraise\u001b[0m \u001b[0mValueError\u001b[0m\u001b[1;33m(\u001b[0m\u001b[1;34m\"Params must be a param map but got %s.\"\u001b[0m \u001b[1;33m%\u001b[0m \u001b[0mtype\u001b[0m\u001b[1;33m(\u001b[0m\u001b[0mparams\u001b[0m\u001b[1;33m)\u001b[0m\u001b[1;33m)\u001b[0m\u001b[1;33m\u001b[0m\u001b[1;33m\u001b[0m\u001b[0m\n",
      "\u001b[1;32mc:\\users\\swami\\anaconda3\\envs\\spark_env\\lib\\site-packages\\pyspark\\ml\\wrapper.py\u001b[0m in \u001b[0;36m_transform\u001b[1;34m(self, dataset)\u001b[0m\n\u001b[0;32m    348\u001b[0m     \u001b[1;32mdef\u001b[0m \u001b[0m_transform\u001b[0m\u001b[1;33m(\u001b[0m\u001b[0mself\u001b[0m\u001b[1;33m,\u001b[0m \u001b[0mdataset\u001b[0m\u001b[1;33m)\u001b[0m\u001b[1;33m:\u001b[0m\u001b[1;33m\u001b[0m\u001b[1;33m\u001b[0m\u001b[0m\n\u001b[0;32m    349\u001b[0m         \u001b[0mself\u001b[0m\u001b[1;33m.\u001b[0m\u001b[0m_transfer_params_to_java\u001b[0m\u001b[1;33m(\u001b[0m\u001b[1;33m)\u001b[0m\u001b[1;33m\u001b[0m\u001b[1;33m\u001b[0m\u001b[0m\n\u001b[1;32m--> 350\u001b[1;33m         \u001b[1;32mreturn\u001b[0m \u001b[0mDataFrame\u001b[0m\u001b[1;33m(\u001b[0m\u001b[0mself\u001b[0m\u001b[1;33m.\u001b[0m\u001b[0m_java_obj\u001b[0m\u001b[1;33m.\u001b[0m\u001b[0mtransform\u001b[0m\u001b[1;33m(\u001b[0m\u001b[0mdataset\u001b[0m\u001b[1;33m.\u001b[0m\u001b[0m_jdf\u001b[0m\u001b[1;33m)\u001b[0m\u001b[1;33m,\u001b[0m \u001b[0mdataset\u001b[0m\u001b[1;33m.\u001b[0m\u001b[0msql_ctx\u001b[0m\u001b[1;33m)\u001b[0m\u001b[1;33m\u001b[0m\u001b[1;33m\u001b[0m\u001b[0m\n\u001b[0m\u001b[0;32m    351\u001b[0m \u001b[1;33m\u001b[0m\u001b[0m\n\u001b[0;32m    352\u001b[0m \u001b[1;33m\u001b[0m\u001b[0m\n",
      "\u001b[1;32mc:\\users\\swami\\anaconda3\\envs\\spark_env\\lib\\site-packages\\py4j\\java_gateway.py\u001b[0m in \u001b[0;36m__call__\u001b[1;34m(self, *args)\u001b[0m\n\u001b[0;32m   1303\u001b[0m         \u001b[0manswer\u001b[0m \u001b[1;33m=\u001b[0m \u001b[0mself\u001b[0m\u001b[1;33m.\u001b[0m\u001b[0mgateway_client\u001b[0m\u001b[1;33m.\u001b[0m\u001b[0msend_command\u001b[0m\u001b[1;33m(\u001b[0m\u001b[0mcommand\u001b[0m\u001b[1;33m)\u001b[0m\u001b[1;33m\u001b[0m\u001b[1;33m\u001b[0m\u001b[0m\n\u001b[0;32m   1304\u001b[0m         return_value = get_return_value(\n\u001b[1;32m-> 1305\u001b[1;33m             answer, self.gateway_client, self.target_id, self.name)\n\u001b[0m\u001b[0;32m   1306\u001b[0m \u001b[1;33m\u001b[0m\u001b[0m\n\u001b[0;32m   1307\u001b[0m         \u001b[1;32mfor\u001b[0m \u001b[0mtemp_arg\u001b[0m \u001b[1;32min\u001b[0m \u001b[0mtemp_args\u001b[0m\u001b[1;33m:\u001b[0m\u001b[1;33m\u001b[0m\u001b[1;33m\u001b[0m\u001b[0m\n",
      "\u001b[1;32mc:\\users\\swami\\anaconda3\\envs\\spark_env\\lib\\site-packages\\pyspark\\sql\\utils.py\u001b[0m in \u001b[0;36mdeco\u001b[1;34m(*a, **kw)\u001b[0m\n\u001b[0;32m    115\u001b[0m                 \u001b[1;31m# Hide where the exception came from that shows a non-Pythonic\u001b[0m\u001b[1;33m\u001b[0m\u001b[1;33m\u001b[0m\u001b[1;33m\u001b[0m\u001b[0m\n\u001b[0;32m    116\u001b[0m                 \u001b[1;31m# JVM exception message.\u001b[0m\u001b[1;33m\u001b[0m\u001b[1;33m\u001b[0m\u001b[1;33m\u001b[0m\u001b[0m\n\u001b[1;32m--> 117\u001b[1;33m                 \u001b[1;32mraise\u001b[0m \u001b[0mconverted\u001b[0m \u001b[1;32mfrom\u001b[0m \u001b[1;32mNone\u001b[0m\u001b[1;33m\u001b[0m\u001b[1;33m\u001b[0m\u001b[0m\n\u001b[0m\u001b[0;32m    118\u001b[0m             \u001b[1;32melse\u001b[0m\u001b[1;33m:\u001b[0m\u001b[1;33m\u001b[0m\u001b[1;33m\u001b[0m\u001b[0m\n\u001b[0;32m    119\u001b[0m                 \u001b[1;32mraise\u001b[0m\u001b[1;33m\u001b[0m\u001b[1;33m\u001b[0m\u001b[0m\n",
      "\u001b[1;31mIllegalArgumentException\u001b[0m: requirement failed: Wrong or missing inputCols annotators in SentenceEmbeddings_2b0176c4facf.\n\nCurrent inputCols: document. Dataset's columns:\n(column_name=caption,is_nlp_annotator=false)\n(column_name=rating,is_nlp_annotator=false)\n(column_name=document,is_nlp_annotator=true,type=document).\nMake sure such annotators exist in your pipeline, with the right output names and that they have following annotator types: document, word_embeddings"
     ]
    }
   ],
   "source": [
    "use_pipelineModel = use_clf_pipeline.fit(df_filtered)\n"
   ]
  },
  {
   "cell_type": "code",
   "execution_count": 116,
   "id": "alpine-harris",
   "metadata": {
    "collapsed": true
   },
   "outputs": [
    {
     "ename": "PermissionError",
     "evalue": "[Errno 13] Permission denied: '../data/outputs/reviews/jsonl'",
     "output_type": "error",
     "traceback": [
      "\u001b[1;31m---------------------------------------------------------------------------\u001b[0m",
      "\u001b[1;31mPermissionError\u001b[0m                           Traceback (most recent call last)",
      "\u001b[1;32m<ipython-input-116-afddabde073b>\u001b[0m in \u001b[0;36m<module>\u001b[1;34m\u001b[0m\n\u001b[0;32m      6\u001b[0m \u001b[1;32mfor\u001b[0m \u001b[0mfile\u001b[0m \u001b[1;32min\u001b[0m \u001b[0mrev_files\u001b[0m\u001b[1;33m:\u001b[0m\u001b[1;33m\u001b[0m\u001b[1;33m\u001b[0m\u001b[0m\n\u001b[0;32m      7\u001b[0m \u001b[1;33m\u001b[0m\u001b[0m\n\u001b[1;32m----> 8\u001b[1;33m     \u001b[0mdf\u001b[0m \u001b[1;33m=\u001b[0m \u001b[0mpd\u001b[0m\u001b[1;33m.\u001b[0m\u001b[0mread_json\u001b[0m\u001b[1;33m(\u001b[0m\u001b[0mfile\u001b[0m\u001b[1;33m)\u001b[0m\u001b[1;33m\u001b[0m\u001b[1;33m\u001b[0m\u001b[0m\n\u001b[0m\u001b[0;32m      9\u001b[0m \u001b[1;33m\u001b[0m\u001b[0m\n\u001b[0;32m     10\u001b[0m     \u001b[0mdf_rev\u001b[0m \u001b[1;33m=\u001b[0m \u001b[0mpd\u001b[0m\u001b[1;33m.\u001b[0m\u001b[0mconcat\u001b[0m\u001b[1;33m(\u001b[0m\u001b[1;33m(\u001b[0m\u001b[0mdf_rev\u001b[0m\u001b[1;33m,\u001b[0m \u001b[0mdf\u001b[0m\u001b[1;33m)\u001b[0m\u001b[1;33m,\u001b[0m \u001b[0mignore_index\u001b[0m\u001b[1;33m=\u001b[0m\u001b[1;32mTrue\u001b[0m\u001b[1;33m)\u001b[0m\u001b[1;33m\u001b[0m\u001b[1;33m\u001b[0m\u001b[0m\n",
      "\u001b[1;32mc:\\users\\swami\\anaconda3\\envs\\spark_env\\lib\\site-packages\\pandas\\util\\_decorators.py\u001b[0m in \u001b[0;36mwrapper\u001b[1;34m(*args, **kwargs)\u001b[0m\n\u001b[0;32m    197\u001b[0m                 \u001b[1;32melse\u001b[0m\u001b[1;33m:\u001b[0m\u001b[1;33m\u001b[0m\u001b[1;33m\u001b[0m\u001b[0m\n\u001b[0;32m    198\u001b[0m                     \u001b[0mkwargs\u001b[0m\u001b[1;33m[\u001b[0m\u001b[0mnew_arg_name\u001b[0m\u001b[1;33m]\u001b[0m \u001b[1;33m=\u001b[0m \u001b[0mnew_arg_value\u001b[0m\u001b[1;33m\u001b[0m\u001b[1;33m\u001b[0m\u001b[0m\n\u001b[1;32m--> 199\u001b[1;33m             \u001b[1;32mreturn\u001b[0m \u001b[0mfunc\u001b[0m\u001b[1;33m(\u001b[0m\u001b[1;33m*\u001b[0m\u001b[0margs\u001b[0m\u001b[1;33m,\u001b[0m \u001b[1;33m**\u001b[0m\u001b[0mkwargs\u001b[0m\u001b[1;33m)\u001b[0m\u001b[1;33m\u001b[0m\u001b[1;33m\u001b[0m\u001b[0m\n\u001b[0m\u001b[0;32m    200\u001b[0m \u001b[1;33m\u001b[0m\u001b[0m\n\u001b[0;32m    201\u001b[0m         \u001b[1;32mreturn\u001b[0m \u001b[0mcast\u001b[0m\u001b[1;33m(\u001b[0m\u001b[0mF\u001b[0m\u001b[1;33m,\u001b[0m \u001b[0mwrapper\u001b[0m\u001b[1;33m)\u001b[0m\u001b[1;33m\u001b[0m\u001b[1;33m\u001b[0m\u001b[0m\n",
      "\u001b[1;32mc:\\users\\swami\\anaconda3\\envs\\spark_env\\lib\\site-packages\\pandas\\util\\_decorators.py\u001b[0m in \u001b[0;36mwrapper\u001b[1;34m(*args, **kwargs)\u001b[0m\n\u001b[0;32m    297\u001b[0m                 )\n\u001b[0;32m    298\u001b[0m                 \u001b[0mwarnings\u001b[0m\u001b[1;33m.\u001b[0m\u001b[0mwarn\u001b[0m\u001b[1;33m(\u001b[0m\u001b[0mmsg\u001b[0m\u001b[1;33m,\u001b[0m \u001b[0mFutureWarning\u001b[0m\u001b[1;33m,\u001b[0m \u001b[0mstacklevel\u001b[0m\u001b[1;33m=\u001b[0m\u001b[0mstacklevel\u001b[0m\u001b[1;33m)\u001b[0m\u001b[1;33m\u001b[0m\u001b[1;33m\u001b[0m\u001b[0m\n\u001b[1;32m--> 299\u001b[1;33m             \u001b[1;32mreturn\u001b[0m \u001b[0mfunc\u001b[0m\u001b[1;33m(\u001b[0m\u001b[1;33m*\u001b[0m\u001b[0margs\u001b[0m\u001b[1;33m,\u001b[0m \u001b[1;33m**\u001b[0m\u001b[0mkwargs\u001b[0m\u001b[1;33m)\u001b[0m\u001b[1;33m\u001b[0m\u001b[1;33m\u001b[0m\u001b[0m\n\u001b[0m\u001b[0;32m    300\u001b[0m \u001b[1;33m\u001b[0m\u001b[0m\n\u001b[0;32m    301\u001b[0m         \u001b[1;32mreturn\u001b[0m \u001b[0mwrapper\u001b[0m\u001b[1;33m\u001b[0m\u001b[1;33m\u001b[0m\u001b[0m\n",
      "\u001b[1;32mc:\\users\\swami\\anaconda3\\envs\\spark_env\\lib\\site-packages\\pandas\\io\\json\\_json.py\u001b[0m in \u001b[0;36mread_json\u001b[1;34m(path_or_buf, orient, typ, dtype, convert_axes, convert_dates, keep_default_dates, numpy, precise_float, date_unit, encoding, lines, chunksize, compression, nrows, storage_options)\u001b[0m\n\u001b[0;32m    554\u001b[0m         \u001b[0mcompression\u001b[0m\u001b[1;33m=\u001b[0m\u001b[0mcompression\u001b[0m\u001b[1;33m,\u001b[0m\u001b[1;33m\u001b[0m\u001b[1;33m\u001b[0m\u001b[0m\n\u001b[0;32m    555\u001b[0m         \u001b[0mnrows\u001b[0m\u001b[1;33m=\u001b[0m\u001b[0mnrows\u001b[0m\u001b[1;33m,\u001b[0m\u001b[1;33m\u001b[0m\u001b[1;33m\u001b[0m\u001b[0m\n\u001b[1;32m--> 556\u001b[1;33m         \u001b[0mstorage_options\u001b[0m\u001b[1;33m=\u001b[0m\u001b[0mstorage_options\u001b[0m\u001b[1;33m,\u001b[0m\u001b[1;33m\u001b[0m\u001b[1;33m\u001b[0m\u001b[0m\n\u001b[0m\u001b[0;32m    557\u001b[0m     )\n\u001b[0;32m    558\u001b[0m \u001b[1;33m\u001b[0m\u001b[0m\n",
      "\u001b[1;32mc:\\users\\swami\\anaconda3\\envs\\spark_env\\lib\\site-packages\\pandas\\io\\json\\_json.py\u001b[0m in \u001b[0;36m__init__\u001b[1;34m(self, filepath_or_buffer, orient, typ, dtype, convert_axes, convert_dates, keep_default_dates, numpy, precise_float, date_unit, encoding, lines, chunksize, compression, nrows, storage_options)\u001b[0m\n\u001b[0;32m    620\u001b[0m                 \u001b[1;32mraise\u001b[0m \u001b[0mValueError\u001b[0m\u001b[1;33m(\u001b[0m\u001b[1;34m\"nrows can only be passed if lines=True\"\u001b[0m\u001b[1;33m)\u001b[0m\u001b[1;33m\u001b[0m\u001b[1;33m\u001b[0m\u001b[0m\n\u001b[0;32m    621\u001b[0m \u001b[1;33m\u001b[0m\u001b[0m\n\u001b[1;32m--> 622\u001b[1;33m         \u001b[0mdata\u001b[0m \u001b[1;33m=\u001b[0m \u001b[0mself\u001b[0m\u001b[1;33m.\u001b[0m\u001b[0m_get_data_from_filepath\u001b[0m\u001b[1;33m(\u001b[0m\u001b[0mfilepath_or_buffer\u001b[0m\u001b[1;33m)\u001b[0m\u001b[1;33m\u001b[0m\u001b[1;33m\u001b[0m\u001b[0m\n\u001b[0m\u001b[0;32m    623\u001b[0m         \u001b[0mself\u001b[0m\u001b[1;33m.\u001b[0m\u001b[0mdata\u001b[0m \u001b[1;33m=\u001b[0m \u001b[0mself\u001b[0m\u001b[1;33m.\u001b[0m\u001b[0m_preprocess_data\u001b[0m\u001b[1;33m(\u001b[0m\u001b[0mdata\u001b[0m\u001b[1;33m)\u001b[0m\u001b[1;33m\u001b[0m\u001b[1;33m\u001b[0m\u001b[0m\n\u001b[0;32m    624\u001b[0m \u001b[1;33m\u001b[0m\u001b[0m\n",
      "\u001b[1;32mc:\\users\\swami\\anaconda3\\envs\\spark_env\\lib\\site-packages\\pandas\\io\\json\\_json.py\u001b[0m in \u001b[0;36m_get_data_from_filepath\u001b[1;34m(self, filepath_or_buffer)\u001b[0m\n\u001b[0;32m    662\u001b[0m                 \u001b[0mencoding\u001b[0m\u001b[1;33m=\u001b[0m\u001b[0mself\u001b[0m\u001b[1;33m.\u001b[0m\u001b[0mencoding\u001b[0m\u001b[1;33m,\u001b[0m\u001b[1;33m\u001b[0m\u001b[1;33m\u001b[0m\u001b[0m\n\u001b[0;32m    663\u001b[0m                 \u001b[0mcompression\u001b[0m\u001b[1;33m=\u001b[0m\u001b[0mself\u001b[0m\u001b[1;33m.\u001b[0m\u001b[0mcompression\u001b[0m\u001b[1;33m,\u001b[0m\u001b[1;33m\u001b[0m\u001b[1;33m\u001b[0m\u001b[0m\n\u001b[1;32m--> 664\u001b[1;33m                 \u001b[0mstorage_options\u001b[0m\u001b[1;33m=\u001b[0m\u001b[0mself\u001b[0m\u001b[1;33m.\u001b[0m\u001b[0mstorage_options\u001b[0m\u001b[1;33m,\u001b[0m\u001b[1;33m\u001b[0m\u001b[1;33m\u001b[0m\u001b[0m\n\u001b[0m\u001b[0;32m    665\u001b[0m             )\n\u001b[0;32m    666\u001b[0m             \u001b[0mfilepath_or_buffer\u001b[0m \u001b[1;33m=\u001b[0m \u001b[0mself\u001b[0m\u001b[1;33m.\u001b[0m\u001b[0mhandles\u001b[0m\u001b[1;33m.\u001b[0m\u001b[0mhandle\u001b[0m\u001b[1;33m\u001b[0m\u001b[1;33m\u001b[0m\u001b[0m\n",
      "\u001b[1;32mc:\\users\\swami\\anaconda3\\envs\\spark_env\\lib\\site-packages\\pandas\\io\\common.py\u001b[0m in \u001b[0;36mget_handle\u001b[1;34m(path_or_buf, mode, encoding, compression, memory_map, is_text, errors, storage_options)\u001b[0m\n\u001b[0;32m    645\u001b[0m                 \u001b[0mencoding\u001b[0m\u001b[1;33m=\u001b[0m\u001b[0mioargs\u001b[0m\u001b[1;33m.\u001b[0m\u001b[0mencoding\u001b[0m\u001b[1;33m,\u001b[0m\u001b[1;33m\u001b[0m\u001b[1;33m\u001b[0m\u001b[0m\n\u001b[0;32m    646\u001b[0m                 \u001b[0merrors\u001b[0m\u001b[1;33m=\u001b[0m\u001b[0merrors\u001b[0m\u001b[1;33m,\u001b[0m\u001b[1;33m\u001b[0m\u001b[1;33m\u001b[0m\u001b[0m\n\u001b[1;32m--> 647\u001b[1;33m                 \u001b[0mnewline\u001b[0m\u001b[1;33m=\u001b[0m\u001b[1;34m\"\"\u001b[0m\u001b[1;33m,\u001b[0m\u001b[1;33m\u001b[0m\u001b[1;33m\u001b[0m\u001b[0m\n\u001b[0m\u001b[0;32m    648\u001b[0m             )\n\u001b[0;32m    649\u001b[0m         \u001b[1;32melse\u001b[0m\u001b[1;33m:\u001b[0m\u001b[1;33m\u001b[0m\u001b[1;33m\u001b[0m\u001b[0m\n",
      "\u001b[1;31mPermissionError\u001b[0m: [Errno 13] Permission denied: '../data/outputs/reviews/jsonl'"
     ]
    }
   ],
   "source": [
    "st_time = time.time()\n",
    "rev_dpath = '../data/outputs/reviews/'\n",
    "        \n",
    "rev_files = [rev_dpath+ f for f in os.listdir(rev_dpath)]\n",
    "df_rev = pd.DataFrame()\n",
    "for file in rev_files:\n",
    "    \n",
    "    df = pd.read_json(file)\n",
    "\n",
    "    df_rev = pd.concat((df_rev, df), ignore_index=True)\n",
    "print(time.time()-st_time)"
   ]
  },
  {
   "cell_type": "code",
   "execution_count": 97,
   "id": "blank-interaction",
   "metadata": {},
   "outputs": [
    {
     "data": {
      "text/plain": [
       "'../data/outputs/reviews/10810402004_ChIJ2Wl4t3vzjIgR0jrQX9_UoWw.json'"
      ]
     },
     "execution_count": 97,
     "metadata": {},
     "output_type": "execute_result"
    }
   ],
   "source": [
    "rev_files[0]"
   ]
  },
  {
   "cell_type": "code",
   "execution_count": 99,
   "id": "available-australia",
   "metadata": {},
   "outputs": [
    {
     "data": {
      "text/plain": [
       "[{'id_review': 'ChZDSUhNMG9nS0VJQ0FnSUN5LWZtWmZnEAE',\n",
       "  'caption': 'One of my new favorite places 😋',\n",
       "  'relative_date': 'a month ago',\n",
       "  'retrieval_date': '2021-03-23',\n",
       "  'rating': 5.0,\n",
       "  'username': 'Monica Crist',\n",
       "  'n_review_user': 20,\n",
       "  'n_photo_user': 0,\n",
       "  'url_user': 'https://www.google.com/maps/contrib/117300709159619750156/reviews?hl=en-US',\n",
       "  'census_block_group': 10810402004},\n",
       " {'id_review': 'ChZDSUhNMG9nS0VJQ0FnSUQ4dTVxcWFREAE',\n",
       "  'caption': 'I got the Peanut Butter Cup Shake and it was really good! Cant wait to try more flavors!',\n",
       "  'relative_date': '7 months ago',\n",
       "  'retrieval_date': '2021-03-23',\n",
       "  'rating': 5.0,\n",
       "  'username': 'Paulina White',\n",
       "  'n_review_user': 0,\n",
       "  'n_photo_user': 0,\n",
       "  'url_user': 'https://www.google.com/maps/contrib/106425158284488465525/reviews?hl=en-US',\n",
       "  'census_block_group': 10810402004},\n",
       " {'id_review': 'ChdDSUhNMG9nS0VJQ0FnSURjNXVDM25nRRAB',\n",
       "  'caption': 'Love this place! I recommend the cucumber watermelon loaded tea and the cake batter shake! They have so many tasty options and combo deals. The staff is always so nice and helpful!',\n",
       "  'relative_date': '9 months ago',\n",
       "  'retrieval_date': '2021-03-23',\n",
       "  'rating': 5.0,\n",
       "  'username': 'Abby Williamson',\n",
       "  'n_review_user': 1,\n",
       "  'n_photo_user': 0,\n",
       "  'url_user': 'https://www.google.com/maps/contrib/113480358639235117809/reviews?hl=en-US',\n",
       "  'census_block_group': 10810402004}]"
      ]
     },
     "execution_count": 99,
     "metadata": {},
     "output_type": "execute_result"
    }
   ],
   "source": [
    "with open(rev_files[0],'r') as inp_file:\n",
    "    x= json.load(inp_file)\n",
    "x"
   ]
  },
  {
   "cell_type": "code",
   "execution_count": null,
   "id": "engaged-british",
   "metadata": {},
   "outputs": [],
   "source": [
    "st_time = time.time()\n",
    "rev_dpath_jsonl = '../data/spark/reviews/jsonl/'\n",
    "os.makedirs(rev_dpath_jsonl, exist_ok=True)\n",
    "rev_files_jsonl = [rev_dpath_jsonl+ f for f in os.listdir(rev_dpath_jsonl)]\n",
    "for file in rev_files:\n",
    "    JSON_file = json.loads()\n",
    "with open('output.jsonl', 'w') as outfile:\n",
    "    with open\n",
    "    for entry in JSON_file:\n",
    "        json.dump(entry, outfile)\n",
    "        outfile.write('\\n')"
   ]
  },
  {
   "cell_type": "code",
   "execution_count": 115,
   "id": "accredited-perry",
   "metadata": {},
   "outputs": [
    {
     "name": "stdout",
     "output_type": "stream",
     "text": [
      "2404.066113471985\n"
     ]
    }
   ],
   "source": [
    "st_time = time.time()\n",
    "rev_dpath_jsonl = '../data/spark/reviews/jsonl/'\n",
    "os.makedirs(rev_dpath_jsonl, exist_ok=True)\n",
    "rev_files_jsonl = [rev_dpath_jsonl+ f for f in os.listdir(rev_dpath_jsonl)]\n",
    "dataframes = map(lambda r: spark.read.json(r), rev_files_jsonl)\n",
    "union = reduce(lambda df1, df2: df1.unionAll(df2), dataframes)\n",
    "df = union.collect()\n",
    "print(time.time()-st_time)"
   ]
  },
  {
   "cell_type": "code",
   "execution_count": 86,
   "id": "pharmaceutical-seventh",
   "metadata": {},
   "outputs": [
    {
     "data": {
      "text/plain": [
       "Row(caption='', census_block_group=10730027002, id_review='ChZDSUhNMG9nS0VJQ0FnSURJME52MFhBEAE', n_photo_user=0, n_review_user=0, rating=4.0, relative_date='2 years ago', retrieval_date='2021-03-23', url_user='https://www.google.com/maps/contrib/116059736436598578008/reviews?hl=en-US', username='MIGUEL BOSCAN')"
      ]
     },
     "execution_count": 86,
     "metadata": {},
     "output_type": "execute_result"
    }
   ],
   "source": [
    "file = rev_dpath_jsonl = '../data/outputs/reviews/jsonl/10730027002_ChIJNe0mPMkbiYgR6oApk2Pt7F8.json'\n",
    "\n",
    "spark.read.json(file).head(2)[0]"
   ]
  },
  {
   "cell_type": "code",
   "execution_count": 17,
   "id": "sound-support",
   "metadata": {},
   "outputs": [
    {
     "data": {
      "text/plain": [
       "DataFrame[_corrupt_record: string]"
      ]
     },
     "execution_count": 17,
     "metadata": {},
     "output_type": "execute_result"
    }
   ],
   "source": [
    "df"
   ]
  },
  {
   "cell_type": "code",
   "execution_count": null,
   "id": "continuing-latvia",
   "metadata": {},
   "outputs": [],
   "source": []
  }
 ],
 "metadata": {
  "kernelspec": {
   "display_name": "Python 3",
   "language": "python",
   "name": "python3"
  },
  "language_info": {
   "codemirror_mode": {
    "name": "ipython",
    "version": 3
   },
   "file_extension": ".py",
   "mimetype": "text/x-python",
   "name": "python",
   "nbconvert_exporter": "python",
   "pygments_lexer": "ipython3",
   "version": "3.7.10"
  }
 },
 "nbformat": 4,
 "nbformat_minor": 5
}
