{
 "cells": [
  {
   "cell_type": "code",
   "execution_count": 1,
   "id": "durable-forty",
   "metadata": {},
   "outputs": [],
   "source": [
    "# Download important libraries\n",
    "%matplotlib inline\n",
    "import matplotlib.pyplot as plt\n",
    "# import seaborn as sns\n",
    "import pandas as pd\n",
    "import numpy as np\n",
    "import tensorflow as tf\n",
    "from tensorflow import keras\n",
    "np.random.seed(42)\n",
    "tf.random.set_seed(42)\n",
    "import json\n",
    "import os\n",
    "from os import path\n",
    "import tarfile\n",
    "import sparknlp\n",
    "from pyspark.sql import SparkSession\n",
    "from pyspark.ml import Pipeline\n",
    "from pyspark.sql.functions import array_contains\n",
    "from sparknlp.annotator import *\n",
    "from sparknlp.common import RegexRule\n",
    "from sparknlp.base import DocumentAssembler, Finisher\n",
    "from pyspark.sql.functions import udf\n",
    "from pyspark.sql.functions import monotonically_increasing_id\n",
    "from pyspark.sql.functions import regexp_replace, col\n",
    "pipeline=None"
   ]
  },
  {
   "cell_type": "code",
   "execution_count": 2,
   "id": "expanded-upper",
   "metadata": {},
   "outputs": [
    {
     "data": {
      "text/plain": [
       "'C:\\\\Spark\\\\spark-3.1.1-bin-hadoop2.7'"
      ]
     },
     "execution_count": 2,
     "metadata": {},
     "output_type": "execute_result"
    }
   ],
   "source": [
    "import findspark\n",
    "findspark.init()\n",
    "findspark.find()\n",
    "import pyspark\n",
    "findspark.find()"
   ]
  },
  {
   "cell_type": "code",
   "execution_count": 4,
   "id": "hybrid-canada",
   "metadata": {},
   "outputs": [
    {
     "data": {
      "text/html": [
       "\n",
       "            <div>\n",
       "                <p><b>SparkSession - in-memory</b></p>\n",
       "                \n",
       "        <div>\n",
       "            <p><b>SparkContext</b></p>\n",
       "\n",
       "            <p><a href=\"http://LAPTOP-IIR9EFCP.hsd1.ma.comcast.net:4040\">Spark UI</a></p>\n",
       "\n",
       "            <dl>\n",
       "              <dt>Version</dt>\n",
       "                <dd><code>v3.1.1</code></dd>\n",
       "              <dt>Master</dt>\n",
       "                <dd><code>local[*]</code></dd>\n",
       "              <dt>AppName</dt>\n",
       "                <dd><code>Spark NLP</code></dd>\n",
       "            </dl>\n",
       "        </div>\n",
       "        \n",
       "            </div>\n",
       "        "
      ],
      "text/plain": [
       "<pyspark.sql.session.SparkSession at 0x1968f63dbc8>"
      ]
     },
     "execution_count": 4,
     "metadata": {},
     "output_type": "execute_result"
    }
   ],
   "source": [
    "spark = SparkSession.builder \\\n",
    "    .appName(\"Spark NLP\")\\\n",
    "    .master(\"local[*]\")\\\n",
    "    .config(\"spark.driver.memory\",\"16G\")\\\n",
    "    .config(\"spark.driver.maxResultSize\", \"0\") \\\n",
    "    .config(\"spark.kryoserializer.buffer.max\", \"2000M\")\\\n",
    "    .config(\"spark.jars.packages\", \"com.johnsnowlabs.nlp:spark-nlp_2.12:3.0.0\").getOrCreate()\n",
    "spark"
   ]
  },
  {
   "cell_type": "code",
   "execution_count": 7,
   "id": "centered-scotland",
   "metadata": {},
   "outputs": [],
   "source": [
    "rev_dpath = '../data/outputs/reviews/'\n",
    "        \n",
    "rev_files = [rev_dpath+ f for f in os.listdir(rev_dpath)][:200]"
   ]
  },
  {
   "cell_type": "code",
   "execution_count": 11,
   "id": "superior-classroom",
   "metadata": {},
   "outputs": [],
   "source": [
    "def clean_df(df):\n",
    "    df = df[df.caption != '']\n",
    "    \n",
    "    return df.reset_index(drop=True)"
   ]
  },
  {
   "cell_type": "code",
   "execution_count": 13,
   "id": "oriented-stand",
   "metadata": {},
   "outputs": [],
   "source": [
    "import warnings\n",
    "warnings.filterwarnings('ignore')"
   ]
  },
  {
   "cell_type": "code",
   "execution_count": 14,
   "id": "legislative-speaker",
   "metadata": {},
   "outputs": [
    {
     "name": "stdout",
     "output_type": "stream",
     "text": [
      "3.51 s ± 11.4 ms per loop (mean ± std. dev. of 7 runs, 1 loop each)\n"
     ]
    }
   ],
   "source": [
    "%%timeit\n",
    "\n",
    "df_rev = pd.DataFrame()\n",
    "for file in rev_files:\n",
    "    \n",
    "    df = pd.read_json(file)\n",
    "    df_clean = clean_df(df)\n",
    "    df_clean['place_id'] = file.split('_',1)[1]\n",
    "    df_clean['place_id'] = df_clean['place_id'].str.replace('.json','')\n",
    "    df_rev = pd.concat((df_rev, df_clean), ignore_index=True)"
   ]
  },
  {
   "cell_type": "code",
   "execution_count": 27,
   "id": "controversial-lunch",
   "metadata": {},
   "outputs": [
    {
     "data": {
      "text/plain": [
       "[{'id_review': 'ChZDSUhNMG9nS0VJQ0FnSURJME52MFhBEAE',\n",
       "  'caption': '',\n",
       "  'relative_date': '2 years ago',\n",
       "  'retrieval_date': '2021-03-23',\n",
       "  'rating': 4.0,\n",
       "  'username': 'MIGUEL BOSCAN',\n",
       "  'n_review_user': 0,\n",
       "  'n_photo_user': 0,\n",
       "  'url_user': 'https://www.google.com/maps/contrib/116059736436598578008/reviews?hl=en-US',\n",
       "  'census_block_group': 10730027002},\n",
       " {'id_review': 'ChZDSUhNMG9nS0VJQ0FnSUN3a0tYS0N3EAE',\n",
       "  'caption': 'Money to pawy secy y QPRyiy',\n",
       "  'relative_date': '2 years ago',\n",
       "  'retrieval_date': '2021-03-23',\n",
       "  'rating': 1.0,\n",
       "  'username': 'Prathamesh Adhikari',\n",
       "  'n_review_user': 1,\n",
       "  'n_photo_user': 0,\n",
       "  'url_user': 'https://www.google.com/maps/contrib/114622033389765477404/reviews?hl=en-US',\n",
       "  'census_block_group': 10730027002},\n",
       " {'id_review': 'ChZDSUhNMG9nS0VJQ0FnSUNBOGQ2UUh3EAE',\n",
       "  'caption': '',\n",
       "  'relative_date': '2 years ago',\n",
       "  'retrieval_date': '2021-03-23',\n",
       "  'rating': 5.0,\n",
       "  'username': 'Mark Zehner',\n",
       "  'n_review_user': 0,\n",
       "  'n_photo_user': 0,\n",
       "  'url_user': 'https://www.google.com/maps/contrib/112543540936895169367/reviews?hl=en-US',\n",
       "  'census_block_group': 10730027002}]"
      ]
     },
     "execution_count": 27,
     "metadata": {},
     "output_type": "execute_result"
    }
   ],
   "source": [
    "with open(rev_files[0]) as f:\n",
    "    JSON_file = json.load(f)\n",
    "\n",
    "JSON_file"
   ]
  },
  {
   "cell_type": "code",
   "execution_count": 28,
   "id": "coordinated-action",
   "metadata": {},
   "outputs": [],
   "source": [
    "rev_dpath_jsonl = '../data/outputs/reviews/jsonl/'\n",
    "os.makedirs(rev_dpath_jsonl, exist_ok=True)\n",
    "op_file = rev_dpath_jsonl + rev_files[0].split('/reviews/')[1].split('.json')[0]\n",
    "import json\n",
    "\n",
    "with open(op_file, 'w') as outfile:\n",
    "    for entry in JSON_file:\n",
    "        json.dump(entry, outfile)\n",
    "        outfile.write('\\n')\n"
   ]
  },
  {
   "cell_type": "code",
   "execution_count": 30,
   "id": "anticipated-cassette",
   "metadata": {},
   "outputs": [
    {
     "data": {
      "text/plain": [
       "[Row(caption='', census_block_group=10730027002, id_review='ChZDSUhNMG9nS0VJQ0FnSURJME52MFhBEAE', n_photo_user=0, n_review_user=0, rating=4.0, relative_date='2 years ago', retrieval_date='2021-03-23', url_user='https://www.google.com/maps/contrib/116059736436598578008/reviews?hl=en-US', username='MIGUEL BOSCAN'),\n",
       " Row(caption='Money to pawy secy y QPRyiy', census_block_group=10730027002, id_review='ChZDSUhNMG9nS0VJQ0FnSUN3a0tYS0N3EAE', n_photo_user=0, n_review_user=1, rating=1.0, relative_date='2 years ago', retrieval_date='2021-03-23', url_user='https://www.google.com/maps/contrib/114622033389765477404/reviews?hl=en-US', username='Prathamesh Adhikari')]"
      ]
     },
     "execution_count": 30,
     "metadata": {},
     "output_type": "execute_result"
    }
   ],
   "source": [
    "file = rev_dpath_jsonl = '../data/outputs/reviews/jsonl/10730027002_ChIJNe0mPMkbiYgR6oApk2Pt7F8.json'\n",
    "\n",
    "spark.read.json(file).head(2)"
   ]
  },
  {
   "cell_type": "code",
   "execution_count": 17,
   "id": "close-comedy",
   "metadata": {},
   "outputs": [
    {
     "data": {
      "text/plain": [
       "DataFrame[_corrupt_record: string]"
      ]
     },
     "execution_count": 17,
     "metadata": {},
     "output_type": "execute_result"
    }
   ],
   "source": [
    "df"
   ]
  },
  {
   "cell_type": "code",
   "execution_count": null,
   "id": "seeing-biography",
   "metadata": {},
   "outputs": [],
   "source": []
  }
 ],
 "metadata": {
  "kernelspec": {
   "display_name": "Python 3",
   "language": "python",
   "name": "python3"
  },
  "language_info": {
   "codemirror_mode": {
    "name": "ipython",
    "version": 3
   },
   "file_extension": ".py",
   "mimetype": "text/x-python",
   "name": "python",
   "nbconvert_exporter": "python",
   "pygments_lexer": "ipython3",
   "version": "3.7.10"
  }
 },
 "nbformat": 4,
 "nbformat_minor": 5
}
